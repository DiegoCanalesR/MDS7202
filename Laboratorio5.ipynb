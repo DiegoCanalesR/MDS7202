{
  "nbformat": 4,
  "nbformat_minor": 0,
  "metadata": {
    "kernelspec": {
      "display_name": "Python 3",
      "language": "python",
      "name": "python3"
    },
    "language_info": {
      "codemirror_mode": {
        "name": "ipython",
        "version": 3
      },
      "file_extension": ".py",
      "mimetype": "text/x-python",
      "name": "python",
      "nbconvert_exporter": "python",
      "pygments_lexer": "ipython3",
      "version": "3.8.3"
    },
    "toc": {
      "base_numbering": 1,
      "nav_menu": {},
      "number_sections": true,
      "sideBar": true,
      "skip_h1_title": true,
      "title_cell": "Tabla de Contenidos",
      "title_sidebar": "Contenidos",
      "toc_cell": false,
      "toc_position": {
        "height": "calc(100% - 180px)",
        "left": "10px",
        "top": "150px",
        "width": "241.867px"
      },
      "toc_section_display": true,
      "toc_window_display": true
    },
    "varInspector": {
      "cols": {
        "lenName": 16,
        "lenType": 16,
        "lenVar": 40
      },
      "kernels_config": {
        "python": {
          "delete_cmd_postfix": "",
          "delete_cmd_prefix": "del ",
          "library": "var_list.py",
          "varRefreshCmd": "print(var_dic_list())"
        },
        "r": {
          "delete_cmd_postfix": ") ",
          "delete_cmd_prefix": "rm(",
          "library": "var_list.r",
          "varRefreshCmd": "cat(var_dic_list()) "
        }
      },
      "types_to_exclude": [
        "module",
        "function",
        "builtin_function_or_method",
        "instance",
        "_Feature"
      ],
      "window_display": false
    },
    "colab": {
      "name": "enunciado_Laboratorio5.ipynb",
      "provenance": [],
      "collapsed_sections": []
    }
  },
  "cells": [
    {
      "cell_type": "markdown",
      "metadata": {
        "id": "XUZ1dFPHzAHl"
      },
      "source": [
        "<h1><center>Laboratorio 5: Benchmark Bayesiano 🧮</center></h1>\n",
        "\n",
        "<center><strong>MDS7202: Laboratorio de Programación Científica para Ciencia de Datos</strong></center>"
      ]
    },
    {
      "cell_type": "markdown",
      "metadata": {
        "id": "UD8X1uhGzAHq"
      },
      "source": [
        "### Cuerpo Docente:\n",
        "\n",
        "- Profesor: Pablo Badilla\n",
        "- Auxiliar: Ignacio Meza D.\n",
        "- Ayudante: Diego Irarrázaval"
      ]
    },
    {
      "cell_type": "markdown",
      "metadata": {
        "id": "tXflExjqzAHr"
      },
      "source": [
        "### Equipo: SUPER IMPORTANTE - notebooks sin nombre no serán revisados\n",
        "\n",
        "- Nombre de alumno 1: Diego Canales R."
      ]
    },
    {
      "cell_type": "markdown",
      "metadata": {
        "id": "AD-V0bbZzAHr"
      },
      "source": [
        "### **Link de repositorio de GitHub:** `https://github.com/DiegoCanalesR/MDS7202/blob/main/Laboratorio5.ipynb`"
      ]
    },
    {
      "cell_type": "markdown",
      "metadata": {
        "id": "EcnsiQMkzAHr"
      },
      "source": [
        "### Indice \n",
        "\n",
        "1. [Temas a tratar](#Temas-a-tratar:)\n",
        "3. [Descripción del laboratorio](#Descripción-del-laboratorio.)\n",
        "4. [Objetivos principales del laboratorio](#Objetivos-principales-del-laboratorio)"
      ]
    },
    {
      "cell_type": "markdown",
      "metadata": {
        "id": "6uBLPj1PzAHs"
      },
      "source": [
        "# Temas a tratar\n",
        "\n",
        "- Optimización de Código en Python.\n",
        "- Utilización de librerías para medir el tiempo de ejecución de funciones.\n",
        "- Métodos para optimizar el rendimiento de las funciones.\n",
        "\n",
        "# Reglas:\n",
        "\n",
        "- Fecha de entrega: 4/06/2021\n",
        "- **Grupos de 2 personas**\n",
        "- **Ausentes** deberán realizar la actividad solos. \n",
        "- Cualquier duda fuera del horario de clases al foro. Mensajes al equipo docente serán respondidos por este medio.\n",
        "- Prohibidas las copias. \n",
        "- Pueden usar cualquer material del curso que estimen conveniente.\n",
        "\n",
        "# Objetivos principales del laboratorio\n",
        "\n",
        "- Obtener datos desde Reddit y visualizar cuales posts son más probables que sean puntuados positivamente.\n",
        "- Aplicar un atajo bayesiano para obtener la mean posterior de datos.\n",
        "- Optimizar a través de librerías funciones."
      ]
    },
    {
      "cell_type": "markdown",
      "metadata": {
        "id": "MhISwri4zAHy"
      },
      "source": [
        "#Importamos librerias utiles 😸"
      ]
    },
    {
      "cell_type": "code",
      "metadata": {
        "id": "cO7AQ9ciQ59U"
      },
      "source": [
        "%%capture\n",
        "!pip install praw\n",
        "!pip install line_profiler\n",
        "import sys\n",
        "import praw\n",
        "import time\n",
        "import numpy as np\n",
        "import pandas as pd\n",
        "from numba import jit\n",
        "import plotly.express as px\n",
        "from functools import lru_cache\n",
        "from IPython.core.display import Image"
      ],
      "execution_count": 1,
      "outputs": []
    },
    {
      "cell_type": "markdown",
      "metadata": {
        "id": "xpOTbQcxbSiy"
      },
      "source": [
        "# 1. Recomendando Posts de Subreddit"
      ]
    },
    {
      "cell_type": "markdown",
      "metadata": {
        "id": "3Q93vbNS25bM"
      },
      "source": [
        "<p align=\"center\">\n",
        "  <img src=\"https://styles.redditmedia.com/t5_2rer8/styles/bannerBackgroundImage_6o2td1zc54671.jpg?width=4000&format=pjpg&s=600bcf8560dff264f1cc7c0785ba5f6d529e0c28\" width=\"10000\">\n",
        "</p>"
      ]
    },
    {
      "cell_type": "markdown",
      "metadata": {
        "id": "jnmZfFpxTTYX"
      },
      "source": [
        "Unos intrépidos alumnos del curso, quienes frecuentemente participan en subreddits y foros de reviews, se preguntan lo siguiente: ¿Podremos confiar que un post es bueno, si este tiene solamente 1 o 3 votos positivos?. los compañeros, creen que esto claramente no representa una opinión general, ya que estamos mucho menos seguros acerca de la verdadera proporción de votos a favor de los comentarios con pocos datos. ¿Pero cómo podemos obtener una representación más creíble para este problema?.\n",
        "\n",
        "Lo señalado forma parte de un problema Bayesiano, donde a través del cálculo de la posterior se puede conocer que tan probable es que un post sea bueno. Para efectos de este laboratorio, no se exige un conocimiento previo para resolver este problema, simplemente se deberá aplicar las ecuaciones presentadas más adelante (De igual forma si quedan interesados sobre el tema se les invita a tomar el ramo [CC6104](https://github.com/dccuchile/CC6104))."
      ]
    },
    {
      "cell_type": "markdown",
      "metadata": {
        "id": "xdbrb3AMi6EF"
      },
      "source": [
        "## 1.1 Obtención de Subrredits y Análisis"
      ]
    },
    {
      "cell_type": "markdown",
      "metadata": {
        "id": "YI-IRspcjPee"
      },
      "source": [
        "Para estudiar que tan probable es que un post sea positivo se comenzará cargando datos reales del subreddit chile desde reddit (si usted desea puede cambiar el subreddit a uno de su gusto). Para esto le proponemos la utilización de la función que aparece mas abajo, la que presenta un usuario ya creado por el equipo docente. Dese un tiempo para entender que hace cada parte de la función, visualizando que se obtiene de estas.\n",
        "\n",
        "Revisada la función, utilice un **perfilador** para monitorear el tiempo y memoria que les toma a las subfunciones ser ejecutadas (por linea de código, vean las clases). Señale cuales son los procesos que mas tiempo consumen en la ejecución del Código, comentando si es posible mejorar el desempeño de la función.\n",
        "\n",
        "**TO-DO:**\n",
        "- [x] Estudiar la función propuesta por el equipo docente.\n",
        "- [x] Estudiar los tiempos de ejecución del Código a través de un perfilador."
      ]
    },
    {
      "cell_type": "code",
      "metadata": {
        "id": "R4PQbceVPJzh"
      },
      "source": [
        "def praw_reddit(nombre_subreddit = 'chile', n_hot = 1000):\n",
        "  reddit = praw.Reddit(client_id='-w2hyFINxZ8T3g',\n",
        "                     client_secret='zGPCI4s3g6Ic6AsRi7vIpP0NoxbFdw',\n",
        "                     password='ClasesMDS7202',\n",
        "                     user_agent='Clases',\n",
        "                     username='DocenciaDataScience', check_for_async=False)\n",
        "  subreddit  = reddit.subreddit(nombre_subreddit)\n",
        "\n",
        "  votes, post, url = {}, {}, {}\n",
        "  top_submissions = list(subreddit.hot(limit = n_hot))\n",
        "  for it, top_n in enumerate(range(50, len(top_submissions),50)):\n",
        "    top_n_submissions = top_submissions[:top_n]\n",
        "    upvotes, downvotes, url[it], post[it] = [], [], [], []\n",
        "\n",
        "    for submission in top_n_submissions:\n",
        "        try:\n",
        "            ratio = submission.upvote_ratio\n",
        "            ups = int(round((ratio*submission.score)/(2*ratio - 1)) if ratio != 0.5 else round(submission.score/2))\n",
        "            upvotes.append(ups)\n",
        "            downvotes.append(ups - submission.score)\n",
        "            post[it].append(submission.title)\n",
        "            url[it].append(submission.url)\n",
        "        except Exception as e:\n",
        "            continue\n",
        "    votes[it] = np.array([upvotes, downvotes]).T\n",
        "  return votes, post, url"
      ],
      "execution_count": 2,
      "outputs": []
    },
    {
      "cell_type": "code",
      "metadata": {
        "id": "8JZisW6fm0RB"
      },
      "source": [
        "%load_ext line_profiler"
      ],
      "execution_count": 3,
      "outputs": []
    },
    {
      "cell_type": "code",
      "metadata": {
        "id": "JyciHofQDyn_"
      },
      "source": [
        "%lprun -f praw_reddit praw_reddit()"
      ],
      "execution_count": 4,
      "outputs": []
    },
    {
      "cell_type": "markdown",
      "metadata": {
        "id": "-Krlk0I3IPK3"
      },
      "source": [
        "\n",
        "`Timer unit: 1e-06 s  |\n",
        "Total time: 15.7763 s  | \n",
        "Function: praw_reddit at line 1`"
      ]
    },
    {
      "cell_type": "markdown",
      "metadata": {
        "id": "YRVWQyHMFaMU"
      },
      "source": [
        "\n",
        "     Line #   Hits        Time   Per Hit   % Time Line Contents\n",
        "     1                                           def praw_reddit(nombre_subreddit = 'chile', n_hot = 1000):\n",
        "     2         1          3.0      3.0      0.0    reddit = praw.Reddit(client_id='-w2hyFINxZ8T3g',\n",
        "     3         1          1.0      1.0      0.0                       client_secret='zGPCI4s3g6Ic6AsRi7vIpP0NoxbFdw',\n",
        "     4         1          1.0      1.0      0.0                       password='ClasesMDS7202',\n",
        "     5         1          1.0      1.0      0.0                       user_agent='Clases',\n",
        "     6         1        499.0    499.0      0.0                       username='DocenciaDataScience', check_for_async=False)\n",
        "     7         1         35.0     35.0      0.0    subreddit  = reddit.subreddit(nombre_subreddit)\n",
        "     8                                           \n",
        "     9         1          2.0      2.0      0.0    votes, post, url = {}, {}, {}\n",
        "    10         1   15690513.0 15690513.0     99.5  top_submissions = list(subreddit.hot(limit = n_hot))\n",
        "    11        20         32.0      1.6      0.0    for it, top_n in enumerate(range(50, len(top_submissions),50)):\n",
        "    12        19        130.0      6.8      0.0      top_n_submissions = top_submissions[:top_n]\n",
        "    13        19        109.0      5.7      0.0      upvotes, downvotes, url[it], post[it] = [], [], [], []\n",
        "    14                                           \n",
        "    15      9519       8250.0      0.9      0.1      for submission in top_n_submissions:\n",
        "    16      9500       7951.0      0.8      0.1          try:\n",
        "    17      9500      11478.0      1.2      0.1              ratio = submission.upvote_ratio\n",
        "    18      9500      14370.0      1.5      0.1              ups = int(round((ratio*submission.score)/(2*ratio - 1)) if ratio != 0.5 else round(submission.score/2))\n",
        "    19      9500       9291.0      1.0      0.1              upvotes.append(ups)\n",
        "    20      9500       9577.0      1.0      0.1              downvotes.append(ups - submission.score)\n",
        "    21      9500      11257.0      1.2      0.1              post[it].append(submission.title)\n",
        "    22      9500      11322.0      1.2      0.1              url[it].append(submission.url)\n",
        "    23                                                   except Exception as e:\n",
        "    24                                                       continue\n",
        "    25        19       1461.0     76.9      0.0      votes[it] = np.array([upvotes, downvotes]).T\n",
        "    26         1          2.0      2.0      0.0    return votes, post, url"
      ]
    },
    {
      "cell_type": "markdown",
      "metadata": {
        "id": "-diI_GpXmzqS"
      },
      "source": [
        "**Respuesta:**"
      ]
    },
    {
      "cell_type": "markdown",
      "metadata": {
        "id": "mTVqvZKqFUHC"
      },
      "source": [
        "El proceso que notoriamente toma más tiempo es la llamada a la API de reddit consultando por los n hot reddits en el subreddit, con un 99.5% del tiempo de procesamiento. Sería posible mejorar el desempeño de la función aplicando técnicas de caching, de forma que en nuevas ejecuciones no sea necesario volver a hacer el request a reddit y se utilicen los resultados ya cargados en memoria."
      ]
    },
    {
      "cell_type": "markdown",
      "metadata": {
        "id": "tNDS2OpFnMnH"
      },
      "source": [
        "## 1.2 Análisis de Tiempo con Cache"
      ]
    },
    {
      "cell_type": "markdown",
      "metadata": {
        "id": "i3nsxCbAna4t"
      },
      "source": [
        "Sin duda, un factor clave en la mejora del tiempo de ejecución de una aplicación es el uso eficiente de la memoria. Por lo que es importante, que ustedes respondan las siguientes preguntas:\n",
        "1.\t¿Qué es la memoria cache y a que se refiere las siglas LRU?\n",
        "2.\t¿Cuáles son los costos que tiene la aplicación de técnicas de Caching?\n",
        "3. ¿Cuál es la consecuencía de ocupar caching en la función anterior?.\n",
        "\n",
        "Respondidas las preguntas, se le solicita que aplique alguna técnica de caching para mejorar el desempeño de la función `praw_reddit`. Para esto compare solo el tiempo de ejecución del algoritmo con y sin caching, señalando el tiempo total de ejecución y el tiempo promedio que le toma ejecutar cada loop a la función. Con lo anterior, ¿es posible visualizar mejoras en este caso?.\n",
        "\n",
        "\n",
        "**TO-DO:**\n",
        "- [x] Responder preguntas.\n",
        "- [ ] Mejorar el código con cache.\n"
      ]
    },
    {
      "cell_type": "markdown",
      "metadata": {
        "id": "fbQPpvYorOAF"
      },
      "source": [
        "**Respuestas Teóricas:**"
      ]
    },
    {
      "cell_type": "markdown",
      "metadata": {
        "id": "RKfLXDs_rO-w"
      },
      "source": [
        "1. La memoria caché es un búfer de memoria que permite almacenar resultados de operaciones, o datos en general, de forma temporal y consultarlos rápidamente. Las siglas LRU significan Least Recently Used y hacen referencia a que se eliminan primero de la memoria caché las entradas que han sido menos utilizadas recientemente. \n",
        "\n",
        "2.  Los costos tienen están relacionados con la consulta de datos que ya han sido eliminados de la memoria caché, pues al revisar en ella y no encontrar lo buscado (miss), se aumenta el tiempo de búsqueda.\n",
        "\n",
        "3. Al aplicar caching en la función anterior, la consecuencia debiese ser una reducción en el tiempo de ejecución, ya que información como la obtenida al consultar por los n hot reddits se almacenaría en caché para volver a ser consultada."
      ]
    },
    {
      "cell_type": "code",
      "metadata": {
        "id": "X0u4WU11rLJd",
        "colab": {
          "base_uri": "https://localhost:8080/"
        },
        "outputId": "24989302-0ad7-4aed-ae17-016d0657e220"
      },
      "source": [
        "import timeit\n",
        "\n",
        "n = 10\n",
        "\n",
        "if __name__ == \"__main__\":\n",
        "    time_praw = timeit.timeit(\"praw_reddit()\",\"from __main__ import praw_reddit\", number=n)\n",
        "\n",
        "print('Tiempos sobre 10 ejecuciones.')\n",
        "print(f'Tiempo total sin caching: {time_praw}')\n",
        "print(f'Tiempo primedio sin caching: {time_praw/n}')\n"
      ],
      "execution_count": 5,
      "outputs": [
        {
          "output_type": "stream",
          "text": [
            "Tiempos sobre 10 ejecuciones.\n",
            "Tiempo total sin caching: 193.31711576499947\n",
            "Tiempo primedio sin caching: 19.33171157649995\n"
          ],
          "name": "stdout"
        }
      ]
    },
    {
      "cell_type": "code",
      "metadata": {
        "colab": {
          "base_uri": "https://localhost:8080/"
        },
        "id": "3IkknPNYsf6e",
        "outputId": "57a2b8f9-98b1-46fd-e59d-551adf8f6187"
      },
      "source": [
        "@lru_cache(maxsize=1000)\n",
        "def praw_reddit(nombre_subreddit = 'chile', n_hot = 1000):\n",
        "  reddit = praw.Reddit(client_id='-w2hyFINxZ8T3g',\n",
        "                     client_secret='zGPCI4s3g6Ic6AsRi7vIpP0NoxbFdw',\n",
        "                     password='ClasesMDS7202',\n",
        "                     user_agent='Clases',\n",
        "                     username='DocenciaDataScience', check_for_async=False)\n",
        "  subreddit  = reddit.subreddit(nombre_subreddit)\n",
        "\n",
        "  votes, post, url = {}, {}, {}\n",
        "  top_submissions = list(subreddit.hot(limit = n_hot))\n",
        "  for it, top_n in enumerate(range(50, len(top_submissions),50)):\n",
        "    top_n_submissions = top_submissions[:top_n]\n",
        "    upvotes, downvotes, url[it], post[it] = [], [], [], []\n",
        "\n",
        "    for submission in top_n_submissions:\n",
        "        try:\n",
        "            ratio = submission.upvote_ratio\n",
        "            ups = int(round((ratio*submission.score)/(2*ratio - 1)) if ratio != 0.5 else round(submission.score/2))\n",
        "            upvotes.append(ups)\n",
        "            downvotes.append(ups - submission.score)\n",
        "            post[it].append(submission.title)\n",
        "            url[it].append(submission.url)\n",
        "        except Exception as e:\n",
        "            continue\n",
        "    votes[it] = np.array([upvotes, downvotes]).T\n",
        "  return votes, post, url\n",
        "\n",
        "if __name__ == \"__main__\":\n",
        "    time_praw_lru = timeit.timeit(\"praw_reddit()\",\"from __main__ import praw_reddit\", number=n)\n",
        "\n",
        "print('Tiempos sobre 10 ejecuciones.')\n",
        "print(f'Tiempo total sin caching: {time_praw_lru}')\n",
        "print(f'Tiempo primedio sin caching: {time_praw_lru/n}')"
      ],
      "execution_count": 6,
      "outputs": [
        {
          "output_type": "stream",
          "text": [
            "Tiempos sobre 10 ejecuciones.\n",
            "Tiempo total sin caching: 19.80370289200073\n",
            "Tiempo primedio sin caching: 1.980370289200073\n"
          ],
          "name": "stdout"
        }
      ]
    },
    {
      "cell_type": "markdown",
      "metadata": {
        "id": "ZcXqEKAG3Qfe"
      },
      "source": [
        "Efectivamente se observa una mejora notable en los tiempos de ejecución de la función al aplicar caching LRU. Mientras que sin caching el tiempo total de promedio sobre 10 ejecuciones es de aproximadamente 19.3 segundos, al usar caching este se reduce a casi un 10% del tiempo por ejecución, obteniéndose inclusive que el tiempo total para las 10 ejecuciones tarda solo 0.5 segundos más que sólo una ejecución sin caching."
      ]
    },
    {
      "cell_type": "markdown",
      "metadata": {
        "id": "2pS26u-trdg6"
      },
      "source": [
        "## 1.3 Obtención de Mean Posterior y Standard Error\n",
        "\n",
        "Una forma de obtener la mean posterior y el Standard Error de los datos de reddit es aplicando un atajo de inferencia Bayesiana. Este atajo se define de la siguiente forma:\n",
        "\n",
        "Sea **u** los votos positivos y **d** los votos negativos del subreddit, tendremos que:\n",
        "\n",
        "$$a = 1+u$$\n",
        "$$b = 1+d$$\n",
        "\n",
        "$$\\sigma= 1.65\\sqrt(\\dfrac{ab}{(a + b)^2(a + b + 1)})$$\n",
        "\n",
        "$$\\mu = \\dfrac{a}{a+b}$$\n",
        "\n",
        "Donde $\\mu$ es la mean posterior y $\\sigma$ el standard error.\n",
        "\n",
        "Con lo anterior, genere dos funciones que tengan como salida $\\mu$ y $\\sigma$ de acuerdo a las ecuaciones señaladas. La primera función, deberá ser construida sin el uso de numpy, aplicando for y aplicando comandos nativos de Python. Por otro lado, deberá generar una segunda función con el uso exclusivo de numpy. **OJO** que las funciones deben tener como entrada solo un elemento del diccionario votes (por ejemplo `votes[1]`), por lo que estas no deben tener como entrada el conjunto completo de datos."
      ]
    },
    {
      "cell_type": "code",
      "metadata": {
        "id": "ahzpJ-Sk0DOD"
      },
      "source": [
        "import math\n",
        "\n",
        "def intevalos(votos_positivos, votos_negativos):\n",
        "    a = []\n",
        "    b = []\n",
        "    for i in range(len(votos_positivos)):\n",
        "        u = votos_positivos[i]\n",
        "        d = votos_negativos[i]\n",
        "        a.append(1+u)\n",
        "        b.append(1+d)\n",
        "    \n",
        "    mu = []\n",
        "    sigma = []\n",
        "    for j in range(len(a)):\n",
        "        mu_j = a[j] / (a[j] + b[j])\n",
        "        mu.append(mu_j)\n",
        "\n",
        "        sigma_j = 1.65 * math.sqrt(a[j]*b[j] / ((a[j] + b[j])**2 * (a[j] + b[j] + 1)))\n",
        "        sigma.append(sigma_j)\n",
        "\n",
        "    return mu, sigma \n",
        "\n",
        "def intevalos_numpy(votos_positivos, votos_negativos):\n",
        "    a = 1 + votos_positivos\n",
        "    b = 1 + votos_negativos\n",
        "\n",
        "    mu = a / (a+b)\n",
        "    sigma = 1.65 * np.sqrt(a*b / ((a + b)**2 * (a + b + 1)))\n",
        "\n",
        "    return mu, sigma\n"
      ],
      "execution_count": 63,
      "outputs": []
    },
    {
      "cell_type": "markdown",
      "metadata": {
        "id": "VhHhiTRYwpGu"
      },
      "source": [
        "## 1.4 Comparación de rendimiento\n",
        "\n",
        "Creadas las funciones de la sección 1.3, de forma iterativa compare los diferentes batches de datos que contiene el diccionario `votes`. Para esto genere un gráfico utilizando plotly, donde se pueda observar las diferencias de tiempo que toma ejecutar las diferentes cantidades de datos. ¿es posible observar una diferencia? ¿a qué se deberá esto?.\n",
        "\n",
        "Aplique el compilador **Numba** sobre las funciones 1.3 y compare el tiempo de ejecución con los obtenidos sin el compilador. Grafique estos tiempos y observe comente los desempeños."
      ]
    },
    {
      "cell_type": "code",
      "metadata": {
        "id": "bDfGUDTv9tT_",
        "outputId": "c7667776-856b-417b-b86d-40a4b6940b92",
        "colab": {
          "base_uri": "https://localhost:8080/",
          "height": 542
        }
      },
      "source": [
        "votes, post, url = praw_reddit()\n",
        "\n",
        "times_intevalos = []\n",
        "times_intevalos_numpy = []\n",
        "for i in range(len(votes)):\n",
        "    pos = votes[i][:,0]\n",
        "    neg = votes[i][:,1]\n",
        "\n",
        "    time_intevalos = timeit.timeit('intevalos(pos,neg)', globals=globals(), number=1)\n",
        "    times_intevalos.append(time_intevalos)\n",
        "\n",
        "    time_intevalos_numpy = timeit.timeit('intevalos_numpy(pos,neg)', globals=globals(), number=1)\n",
        "    times_intevalos_numpy.append(time_intevalos_numpy)\n",
        "\n",
        "df1 = pd.DataFrame(columns=['Batch', 'Tiempo', 'Función'])\n",
        "for i in range(len(times_intevalos)):\n",
        "    df1 = df1.append({'Batch': i, 'Tiempo': times_intevalos[i], 'Función': 'python'}, ignore_index=True)\n",
        "    df1 = df1.append({'Batch': i, 'Tiempo': times_intevalos_numpy[i], 'Función': 'numpy'}, ignore_index=True)\n",
        "\n",
        "px.line(df1, x='Batch', y='Tiempo', color='Función', title='Comparación rendimiento Python v/s Numpy en intevalos()')\n",
        "\n",
        "\n"
      ],
      "execution_count": 78,
      "outputs": [
        {
          "output_type": "display_data",
          "data": {
            "text/html": [
              "<html>\n",
              "<head><meta charset=\"utf-8\" /></head>\n",
              "<body>\n",
              "    <div>\n",
              "            <script src=\"https://cdnjs.cloudflare.com/ajax/libs/mathjax/2.7.5/MathJax.js?config=TeX-AMS-MML_SVG\"></script><script type=\"text/javascript\">if (window.MathJax) {MathJax.Hub.Config({SVG: {font: \"STIX-Web\"}});}</script>\n",
              "                <script type=\"text/javascript\">window.PlotlyConfig = {MathJaxConfig: 'local'};</script>\n",
              "        <script src=\"https://cdn.plot.ly/plotly-latest.min.js\"></script>    \n",
              "            <div id=\"8226b718-48a4-41d5-a90f-d5949ef9079e\" class=\"plotly-graph-div\" style=\"height:525px; width:100%;\"></div>\n",
              "            <script type=\"text/javascript\">\n",
              "                \n",
              "                    window.PLOTLYENV=window.PLOTLYENV || {};\n",
              "                    \n",
              "                if (document.getElementById(\"8226b718-48a4-41d5-a90f-d5949ef9079e\")) {\n",
              "                    Plotly.newPlot(\n",
              "                        '8226b718-48a4-41d5-a90f-d5949ef9079e',\n",
              "                        [{\"hoverlabel\": {\"namelength\": 0}, \"hovertemplate\": \"Funci\\u00f3n=python<br>Batch=%{x}<br>Tiempo=%{y}\", \"legendgroup\": \"Funci\\u00f3n=python\", \"line\": {\"color\": \"#636efa\", \"dash\": \"solid\"}, \"mode\": \"lines\", \"name\": \"Funci\\u00f3n=python\", \"showlegend\": true, \"type\": \"scatter\", \"x\": [0, 1, 2, 3, 4, 5, 6, 7, 8, 9, 10, 11, 12, 13, 14, 15, 16, 17, 18], \"xaxis\": \"x\", \"y\": [0.0002328850005142158, 0.0005276500014588237, 0.000789609001003555, 0.0006232480009202845, 0.0007549660003860481, 0.0008678979993419489, 0.0009915459995681886, 0.0011120489998575067, 0.0013360829998418922, 0.00141110600088723, 0.0015576480000163428, 0.0016496570005983813, 0.0018219820012745913, 0.0019043060001422418, 0.0020598850005626446, 0.002174829000068712, 0.002298614999745041, 0.002455075999023393, 0.002647437999257818], \"yaxis\": \"y\"}, {\"hoverlabel\": {\"namelength\": 0}, \"hovertemplate\": \"Funci\\u00f3n=numpy<br>Batch=%{x}<br>Tiempo=%{y}\", \"legendgroup\": \"Funci\\u00f3n=numpy\", \"line\": {\"color\": \"#EF553B\", \"dash\": \"solid\"}, \"mode\": \"lines\", \"name\": \"Funci\\u00f3n=numpy\", \"showlegend\": true, \"type\": \"scatter\", \"x\": [0, 1, 2, 3, 4, 5, 6, 7, 8, 9, 10, 11, 12, 13, 14, 15, 16, 17, 18], \"xaxis\": \"x\", \"y\": [7.415099935315084e-05, 6.167100036691409e-05, 3.961500078730751e-05, 2.8096999812987633e-05, 3.2446998375235125e-05, 2.735999987635296e-05, 2.8520998966996558e-05, 3.9448999814339913e-05, 3.3598998925299384e-05, 3.080299939028919e-05, 5.2695000704261474e-05, 3.435400140006095e-05, 4.1144001443171874e-05, 6.276400017668493e-05, 4.2222000047331676e-05, 3.732000004674774e-05, 3.992200072389096e-05, 4.279099994164426e-05, 4.631999945559073e-05], \"yaxis\": \"y\"}],\n",
              "                        {\"legend\": {\"tracegroupgap\": 0}, \"template\": {\"data\": {\"bar\": [{\"error_x\": {\"color\": \"#2a3f5f\"}, \"error_y\": {\"color\": \"#2a3f5f\"}, \"marker\": {\"line\": {\"color\": \"#E5ECF6\", \"width\": 0.5}}, \"type\": \"bar\"}], \"barpolar\": [{\"marker\": {\"line\": {\"color\": \"#E5ECF6\", \"width\": 0.5}}, \"type\": \"barpolar\"}], \"carpet\": [{\"aaxis\": {\"endlinecolor\": \"#2a3f5f\", \"gridcolor\": \"white\", \"linecolor\": \"white\", \"minorgridcolor\": \"white\", \"startlinecolor\": \"#2a3f5f\"}, \"baxis\": {\"endlinecolor\": \"#2a3f5f\", \"gridcolor\": \"white\", \"linecolor\": \"white\", \"minorgridcolor\": \"white\", \"startlinecolor\": \"#2a3f5f\"}, \"type\": \"carpet\"}], \"choropleth\": [{\"colorbar\": {\"outlinewidth\": 0, \"ticks\": \"\"}, \"type\": \"choropleth\"}], \"contour\": [{\"colorbar\": {\"outlinewidth\": 0, \"ticks\": \"\"}, \"colorscale\": [[0.0, \"#0d0887\"], [0.1111111111111111, \"#46039f\"], [0.2222222222222222, \"#7201a8\"], [0.3333333333333333, \"#9c179e\"], [0.4444444444444444, \"#bd3786\"], [0.5555555555555556, \"#d8576b\"], [0.6666666666666666, \"#ed7953\"], [0.7777777777777778, \"#fb9f3a\"], [0.8888888888888888, \"#fdca26\"], [1.0, \"#f0f921\"]], \"type\": \"contour\"}], \"contourcarpet\": [{\"colorbar\": {\"outlinewidth\": 0, \"ticks\": \"\"}, \"type\": \"contourcarpet\"}], \"heatmap\": [{\"colorbar\": {\"outlinewidth\": 0, \"ticks\": \"\"}, \"colorscale\": [[0.0, \"#0d0887\"], [0.1111111111111111, \"#46039f\"], [0.2222222222222222, \"#7201a8\"], [0.3333333333333333, \"#9c179e\"], [0.4444444444444444, \"#bd3786\"], [0.5555555555555556, \"#d8576b\"], [0.6666666666666666, \"#ed7953\"], [0.7777777777777778, \"#fb9f3a\"], [0.8888888888888888, \"#fdca26\"], [1.0, \"#f0f921\"]], \"type\": \"heatmap\"}], \"heatmapgl\": [{\"colorbar\": {\"outlinewidth\": 0, \"ticks\": \"\"}, \"colorscale\": [[0.0, \"#0d0887\"], [0.1111111111111111, \"#46039f\"], [0.2222222222222222, \"#7201a8\"], [0.3333333333333333, \"#9c179e\"], [0.4444444444444444, \"#bd3786\"], [0.5555555555555556, \"#d8576b\"], [0.6666666666666666, \"#ed7953\"], [0.7777777777777778, \"#fb9f3a\"], [0.8888888888888888, \"#fdca26\"], [1.0, \"#f0f921\"]], \"type\": \"heatmapgl\"}], \"histogram\": [{\"marker\": {\"colorbar\": {\"outlinewidth\": 0, \"ticks\": \"\"}}, \"type\": \"histogram\"}], \"histogram2d\": [{\"colorbar\": {\"outlinewidth\": 0, \"ticks\": \"\"}, \"colorscale\": [[0.0, \"#0d0887\"], [0.1111111111111111, \"#46039f\"], [0.2222222222222222, \"#7201a8\"], [0.3333333333333333, \"#9c179e\"], [0.4444444444444444, \"#bd3786\"], [0.5555555555555556, \"#d8576b\"], [0.6666666666666666, \"#ed7953\"], [0.7777777777777778, \"#fb9f3a\"], [0.8888888888888888, \"#fdca26\"], [1.0, \"#f0f921\"]], \"type\": \"histogram2d\"}], \"histogram2dcontour\": [{\"colorbar\": {\"outlinewidth\": 0, \"ticks\": \"\"}, \"colorscale\": [[0.0, \"#0d0887\"], [0.1111111111111111, \"#46039f\"], [0.2222222222222222, \"#7201a8\"], [0.3333333333333333, \"#9c179e\"], [0.4444444444444444, \"#bd3786\"], [0.5555555555555556, \"#d8576b\"], [0.6666666666666666, \"#ed7953\"], [0.7777777777777778, \"#fb9f3a\"], [0.8888888888888888, \"#fdca26\"], [1.0, \"#f0f921\"]], \"type\": \"histogram2dcontour\"}], \"mesh3d\": [{\"colorbar\": {\"outlinewidth\": 0, \"ticks\": \"\"}, \"type\": \"mesh3d\"}], \"parcoords\": [{\"line\": {\"colorbar\": {\"outlinewidth\": 0, \"ticks\": \"\"}}, \"type\": \"parcoords\"}], \"pie\": [{\"automargin\": true, \"type\": \"pie\"}], \"scatter\": [{\"marker\": {\"colorbar\": {\"outlinewidth\": 0, \"ticks\": \"\"}}, \"type\": \"scatter\"}], \"scatter3d\": [{\"line\": {\"colorbar\": {\"outlinewidth\": 0, \"ticks\": \"\"}}, \"marker\": {\"colorbar\": {\"outlinewidth\": 0, \"ticks\": \"\"}}, \"type\": \"scatter3d\"}], \"scattercarpet\": [{\"marker\": {\"colorbar\": {\"outlinewidth\": 0, \"ticks\": \"\"}}, \"type\": \"scattercarpet\"}], \"scattergeo\": [{\"marker\": {\"colorbar\": {\"outlinewidth\": 0, \"ticks\": \"\"}}, \"type\": \"scattergeo\"}], \"scattergl\": [{\"marker\": {\"colorbar\": {\"outlinewidth\": 0, \"ticks\": \"\"}}, \"type\": \"scattergl\"}], \"scattermapbox\": [{\"marker\": {\"colorbar\": {\"outlinewidth\": 0, \"ticks\": \"\"}}, \"type\": \"scattermapbox\"}], \"scatterpolar\": [{\"marker\": {\"colorbar\": {\"outlinewidth\": 0, \"ticks\": \"\"}}, \"type\": \"scatterpolar\"}], \"scatterpolargl\": [{\"marker\": {\"colorbar\": {\"outlinewidth\": 0, \"ticks\": \"\"}}, \"type\": \"scatterpolargl\"}], \"scatterternary\": [{\"marker\": {\"colorbar\": {\"outlinewidth\": 0, \"ticks\": \"\"}}, \"type\": \"scatterternary\"}], \"surface\": [{\"colorbar\": {\"outlinewidth\": 0, \"ticks\": \"\"}, \"colorscale\": [[0.0, \"#0d0887\"], [0.1111111111111111, \"#46039f\"], [0.2222222222222222, \"#7201a8\"], [0.3333333333333333, \"#9c179e\"], [0.4444444444444444, \"#bd3786\"], [0.5555555555555556, \"#d8576b\"], [0.6666666666666666, \"#ed7953\"], [0.7777777777777778, \"#fb9f3a\"], [0.8888888888888888, \"#fdca26\"], [1.0, \"#f0f921\"]], \"type\": \"surface\"}], \"table\": [{\"cells\": {\"fill\": {\"color\": \"#EBF0F8\"}, \"line\": {\"color\": \"white\"}}, \"header\": {\"fill\": {\"color\": \"#C8D4E3\"}, \"line\": {\"color\": \"white\"}}, \"type\": \"table\"}]}, \"layout\": {\"annotationdefaults\": {\"arrowcolor\": \"#2a3f5f\", \"arrowhead\": 0, \"arrowwidth\": 1}, \"coloraxis\": {\"colorbar\": {\"outlinewidth\": 0, \"ticks\": \"\"}}, \"colorscale\": {\"diverging\": [[0, \"#8e0152\"], [0.1, \"#c51b7d\"], [0.2, \"#de77ae\"], [0.3, \"#f1b6da\"], [0.4, \"#fde0ef\"], [0.5, \"#f7f7f7\"], [0.6, \"#e6f5d0\"], [0.7, \"#b8e186\"], [0.8, \"#7fbc41\"], [0.9, \"#4d9221\"], [1, \"#276419\"]], \"sequential\": [[0.0, \"#0d0887\"], [0.1111111111111111, \"#46039f\"], [0.2222222222222222, \"#7201a8\"], [0.3333333333333333, \"#9c179e\"], [0.4444444444444444, \"#bd3786\"], [0.5555555555555556, \"#d8576b\"], [0.6666666666666666, \"#ed7953\"], [0.7777777777777778, \"#fb9f3a\"], [0.8888888888888888, \"#fdca26\"], [1.0, \"#f0f921\"]], \"sequentialminus\": [[0.0, \"#0d0887\"], [0.1111111111111111, \"#46039f\"], [0.2222222222222222, \"#7201a8\"], [0.3333333333333333, \"#9c179e\"], [0.4444444444444444, \"#bd3786\"], [0.5555555555555556, \"#d8576b\"], [0.6666666666666666, \"#ed7953\"], [0.7777777777777778, \"#fb9f3a\"], [0.8888888888888888, \"#fdca26\"], [1.0, \"#f0f921\"]]}, \"colorway\": [\"#636efa\", \"#EF553B\", \"#00cc96\", \"#ab63fa\", \"#FFA15A\", \"#19d3f3\", \"#FF6692\", \"#B6E880\", \"#FF97FF\", \"#FECB52\"], \"font\": {\"color\": \"#2a3f5f\"}, \"geo\": {\"bgcolor\": \"white\", \"lakecolor\": \"white\", \"landcolor\": \"#E5ECF6\", \"showlakes\": true, \"showland\": true, \"subunitcolor\": \"white\"}, \"hoverlabel\": {\"align\": \"left\"}, \"hovermode\": \"closest\", \"mapbox\": {\"style\": \"light\"}, \"paper_bgcolor\": \"white\", \"plot_bgcolor\": \"#E5ECF6\", \"polar\": {\"angularaxis\": {\"gridcolor\": \"white\", \"linecolor\": \"white\", \"ticks\": \"\"}, \"bgcolor\": \"#E5ECF6\", \"radialaxis\": {\"gridcolor\": \"white\", \"linecolor\": \"white\", \"ticks\": \"\"}}, \"scene\": {\"xaxis\": {\"backgroundcolor\": \"#E5ECF6\", \"gridcolor\": \"white\", \"gridwidth\": 2, \"linecolor\": \"white\", \"showbackground\": true, \"ticks\": \"\", \"zerolinecolor\": \"white\"}, \"yaxis\": {\"backgroundcolor\": \"#E5ECF6\", \"gridcolor\": \"white\", \"gridwidth\": 2, \"linecolor\": \"white\", \"showbackground\": true, \"ticks\": \"\", \"zerolinecolor\": \"white\"}, \"zaxis\": {\"backgroundcolor\": \"#E5ECF6\", \"gridcolor\": \"white\", \"gridwidth\": 2, \"linecolor\": \"white\", \"showbackground\": true, \"ticks\": \"\", \"zerolinecolor\": \"white\"}}, \"shapedefaults\": {\"line\": {\"color\": \"#2a3f5f\"}}, \"ternary\": {\"aaxis\": {\"gridcolor\": \"white\", \"linecolor\": \"white\", \"ticks\": \"\"}, \"baxis\": {\"gridcolor\": \"white\", \"linecolor\": \"white\", \"ticks\": \"\"}, \"bgcolor\": \"#E5ECF6\", \"caxis\": {\"gridcolor\": \"white\", \"linecolor\": \"white\", \"ticks\": \"\"}}, \"title\": {\"x\": 0.05}, \"xaxis\": {\"automargin\": true, \"gridcolor\": \"white\", \"linecolor\": \"white\", \"ticks\": \"\", \"title\": {\"standoff\": 15}, \"zerolinecolor\": \"white\", \"zerolinewidth\": 2}, \"yaxis\": {\"automargin\": true, \"gridcolor\": \"white\", \"linecolor\": \"white\", \"ticks\": \"\", \"title\": {\"standoff\": 15}, \"zerolinecolor\": \"white\", \"zerolinewidth\": 2}}}, \"title\": {\"text\": \"Comparaci\\u00f3n rendimiento Python v/s Numpy en intevalos()\"}, \"xaxis\": {\"anchor\": \"y\", \"domain\": [0.0, 1.0], \"title\": {\"text\": \"Batch\"}}, \"yaxis\": {\"anchor\": \"x\", \"domain\": [0.0, 1.0], \"title\": {\"text\": \"Tiempo\"}}},\n",
              "                        {\"responsive\": true}\n",
              "                    ).then(function(){\n",
              "                            \n",
              "var gd = document.getElementById('8226b718-48a4-41d5-a90f-d5949ef9079e');\n",
              "var x = new MutationObserver(function (mutations, observer) {{\n",
              "        var display = window.getComputedStyle(gd).display;\n",
              "        if (!display || display === 'none') {{\n",
              "            console.log([gd, 'removed!']);\n",
              "            Plotly.purge(gd);\n",
              "            observer.disconnect();\n",
              "        }}\n",
              "}});\n",
              "\n",
              "// Listen for the removal of the full notebook cells\n",
              "var notebookContainer = gd.closest('#notebook-container');\n",
              "if (notebookContainer) {{\n",
              "    x.observe(notebookContainer, {childList: true});\n",
              "}}\n",
              "\n",
              "// Listen for the clearing of the current output cell\n",
              "var outputEl = gd.closest('.output');\n",
              "if (outputEl) {{\n",
              "    x.observe(outputEl, {childList: true});\n",
              "}}\n",
              "\n",
              "                        })\n",
              "                };\n",
              "                \n",
              "            </script>\n",
              "        </div>\n",
              "</body>\n",
              "</html>"
            ]
          },
          "metadata": {
            "tags": []
          }
        }
      ]
    },
    {
      "cell_type": "markdown",
      "metadata": {
        "id": "_huJ9uyoG-j-"
      },
      "source": [
        "Sí es posible observar una diferencia, pues los tiempos de ejecución utilizando numpy son notoriamente menores a medida que se avanza en los batches de votes. Esto ocurre porque la librería numpy implementa operaciones optimizadas sobre arreglos que entregan un mejor rendimiento que operar listas en ciclos for.\n",
        "\n"
      ]
    },
    {
      "cell_type": "code",
      "metadata": {
        "id": "b02IokToxPpO",
        "colab": {
          "base_uri": "https://localhost:8080/",
          "height": 542
        },
        "outputId": "8c92fda5-f332-4b69-a0e3-0a58854d0828"
      },
      "source": [
        "@jit(nopython=True)\n",
        "def intevalos_JIT(votos_positivos, votos_negativos):\n",
        "    a = []\n",
        "    b = []\n",
        "    for i in range(len(votos_positivos)):\n",
        "        u = votos_positivos[i]\n",
        "        d = votos_negativos[i]\n",
        "        a.append(1+u)\n",
        "        b.append(1+d)\n",
        "    \n",
        "    mu = []\n",
        "    sigma = []\n",
        "    for j in range(len(a)):\n",
        "        mu_j = a[j] / (a[j] + b[j])\n",
        "        mu.append(mu_j)\n",
        "\n",
        "        sigma_j = 1.65 * math.sqrt(a[j]*b[j] / ((a[j] + b[j])**2 * (a[j] + b[j] + 1)))\n",
        "        sigma.append(sigma_j)\n",
        "\n",
        "    return mu, sigma \n",
        "\n",
        "@jit(nopython=True)\n",
        "def intevalos_numpy_JIT(votos_positivos, votos_negativos):\n",
        "    a = 1 + votos_positivos\n",
        "    b = 1 + votos_negativos\n",
        "\n",
        "    mu = a / (a+b)\n",
        "    sigma = 1.65 * np.sqrt(a*b / ((a + b)**2 * (a + b + 1)))\n",
        "\n",
        "    return mu, sigma\n",
        "\n",
        "\n",
        "times_intevalos_jit = []\n",
        "times_intevalos_numpy_jit = []\n",
        "for i in range(len(votes)):\n",
        "    pos = votes[i][:,0]\n",
        "    neg = votes[i][:,1]\n",
        "\n",
        "    time_intevalos_jit = timeit.timeit('intevalos_JIT(pos,neg)', globals=globals(), number=1)\n",
        "    times_intevalos_jit.append(time_intevalos_jit)\n",
        "\n",
        "    time_intevalos_numpy_jit = timeit.timeit('intevalos_numpy_JIT(pos,neg)', globals=globals(), number=1)\n",
        "    times_intevalos_numpy_jit.append(time_intevalos_numpy_jit)\n",
        "\n",
        "for i in range(len(times_intevalos_jit)):\n",
        "    df1 = df1.append({'Batch': i, 'Tiempo': times_intevalos_jit[i], 'Función': 'python + numba'}, ignore_index=True)\n",
        "    df1 = df1.append({'Batch': i, 'Tiempo': times_intevalos_numpy_jit[i], 'Función': 'numpy + numba'}, ignore_index=True)\n",
        "\n",
        "px.line(df1, x='Batch', y='Tiempo', color='Función', title='Comparación rendimiento Python, Numpy y Numba en intevalos()')\n",
        "\n"
      ],
      "execution_count": 79,
      "outputs": [
        {
          "output_type": "display_data",
          "data": {
            "text/html": [
              "<html>\n",
              "<head><meta charset=\"utf-8\" /></head>\n",
              "<body>\n",
              "    <div>\n",
              "            <script src=\"https://cdnjs.cloudflare.com/ajax/libs/mathjax/2.7.5/MathJax.js?config=TeX-AMS-MML_SVG\"></script><script type=\"text/javascript\">if (window.MathJax) {MathJax.Hub.Config({SVG: {font: \"STIX-Web\"}});}</script>\n",
              "                <script type=\"text/javascript\">window.PlotlyConfig = {MathJaxConfig: 'local'};</script>\n",
              "        <script src=\"https://cdn.plot.ly/plotly-latest.min.js\"></script>    \n",
              "            <div id=\"0589bbaa-2693-4494-b811-fd76161fe362\" class=\"plotly-graph-div\" style=\"height:525px; width:100%;\"></div>\n",
              "            <script type=\"text/javascript\">\n",
              "                \n",
              "                    window.PLOTLYENV=window.PLOTLYENV || {};\n",
              "                    \n",
              "                if (document.getElementById(\"0589bbaa-2693-4494-b811-fd76161fe362\")) {\n",
              "                    Plotly.newPlot(\n",
              "                        '0589bbaa-2693-4494-b811-fd76161fe362',\n",
              "                        [{\"hoverlabel\": {\"namelength\": 0}, \"hovertemplate\": \"Funci\\u00f3n=python<br>Batch=%{x}<br>Tiempo=%{y}\", \"legendgroup\": \"Funci\\u00f3n=python\", \"line\": {\"color\": \"#636efa\", \"dash\": \"solid\"}, \"mode\": \"lines\", \"name\": \"Funci\\u00f3n=python\", \"showlegend\": true, \"type\": \"scatter\", \"x\": [0, 1, 2, 3, 4, 5, 6, 7, 8, 9, 10, 11, 12, 13, 14, 15, 16, 17, 18], \"xaxis\": \"x\", \"y\": [0.0002328850005142158, 0.0005276500014588237, 0.000789609001003555, 0.0006232480009202845, 0.0007549660003860481, 0.0008678979993419489, 0.0009915459995681886, 0.0011120489998575067, 0.0013360829998418922, 0.00141110600088723, 0.0015576480000163428, 0.0016496570005983813, 0.0018219820012745913, 0.0019043060001422418, 0.0020598850005626446, 0.002174829000068712, 0.002298614999745041, 0.002455075999023393, 0.002647437999257818], \"yaxis\": \"y\"}, {\"hoverlabel\": {\"namelength\": 0}, \"hovertemplate\": \"Funci\\u00f3n=numpy<br>Batch=%{x}<br>Tiempo=%{y}\", \"legendgroup\": \"Funci\\u00f3n=numpy\", \"line\": {\"color\": \"#EF553B\", \"dash\": \"solid\"}, \"mode\": \"lines\", \"name\": \"Funci\\u00f3n=numpy\", \"showlegend\": true, \"type\": \"scatter\", \"x\": [0, 1, 2, 3, 4, 5, 6, 7, 8, 9, 10, 11, 12, 13, 14, 15, 16, 17, 18], \"xaxis\": \"x\", \"y\": [7.415099935315084e-05, 6.167100036691409e-05, 3.961500078730751e-05, 2.8096999812987633e-05, 3.2446998375235125e-05, 2.735999987635296e-05, 2.8520998966996558e-05, 3.9448999814339913e-05, 3.3598998925299384e-05, 3.080299939028919e-05, 5.2695000704261474e-05, 3.435400140006095e-05, 4.1144001443171874e-05, 6.276400017668493e-05, 4.2222000047331676e-05, 3.732000004674774e-05, 3.992200072389096e-05, 4.279099994164426e-05, 4.631999945559073e-05], \"yaxis\": \"y\"}, {\"hoverlabel\": {\"namelength\": 0}, \"hovertemplate\": \"Funci\\u00f3n=python + numba<br>Batch=%{x}<br>Tiempo=%{y}\", \"legendgroup\": \"Funci\\u00f3n=python + numba\", \"line\": {\"color\": \"#00cc96\", \"dash\": \"solid\"}, \"mode\": \"lines\", \"name\": \"Funci\\u00f3n=python + numba\", \"showlegend\": true, \"type\": \"scatter\", \"x\": [0, 1, 2, 3, 4, 5, 6, 7, 8, 9, 10, 11, 12, 13, 14, 15, 16, 17, 18], \"xaxis\": \"x\", \"y\": [0.3256385250006133, 2.9803999495925382e-05, 2.1932999516138807e-05, 2.636499993968755e-05, 3.349500002514105e-05, 4.082099985680543e-05, 4.234100015310105e-05, 5.369600148696918e-05, 5.465399954118766e-05, 6.374499935191125e-05, 6.491800013463944e-05, 7.515600009355694e-05, 7.704899871896487e-05, 7.779100087645929e-05, 8.361199979844969e-05, 9.31350004975684e-05, 0.00010509700041438919, 0.00010144099906028714, 0.0001050060000125086], \"yaxis\": \"y\"}, {\"hoverlabel\": {\"namelength\": 0}, \"hovertemplate\": \"Funci\\u00f3n=numpy + numba<br>Batch=%{x}<br>Tiempo=%{y}\", \"legendgroup\": \"Funci\\u00f3n=numpy + numba\", \"line\": {\"color\": \"#ab63fa\", \"dash\": \"solid\"}, \"mode\": \"lines\", \"name\": \"Funci\\u00f3n=numpy + numba\", \"showlegend\": true, \"type\": \"scatter\", \"x\": [0, 1, 2, 3, 4, 5, 6, 7, 8, 9, 10, 11, 12, 13, 14, 15, 16, 17, 18], \"xaxis\": \"x\", \"y\": [0.39139458700083196, 1.2675000107265078e-05, 5.375999535317533e-06, 5.027999577578157e-06, 6.354999641189352e-06, 5.948000762145966e-06, 6.655000106547959e-06, 5.208999937167391e-06, 6.1849987105233595e-06, 5.914000212214887e-06, 5.939000402577221e-06, 7.439999535563402e-06, 6.358999598887749e-06, 6.8040008045500144e-06, 7.029000698821619e-06, 8.195998816518113e-06, 8.393999451072887e-06, 7.542999810539186e-06, 7.929000275908038e-06], \"yaxis\": \"y\"}],\n",
              "                        {\"legend\": {\"tracegroupgap\": 0}, \"template\": {\"data\": {\"bar\": [{\"error_x\": {\"color\": \"#2a3f5f\"}, \"error_y\": {\"color\": \"#2a3f5f\"}, \"marker\": {\"line\": {\"color\": \"#E5ECF6\", \"width\": 0.5}}, \"type\": \"bar\"}], \"barpolar\": [{\"marker\": {\"line\": {\"color\": \"#E5ECF6\", \"width\": 0.5}}, \"type\": \"barpolar\"}], \"carpet\": [{\"aaxis\": {\"endlinecolor\": \"#2a3f5f\", \"gridcolor\": \"white\", \"linecolor\": \"white\", \"minorgridcolor\": \"white\", \"startlinecolor\": \"#2a3f5f\"}, \"baxis\": {\"endlinecolor\": \"#2a3f5f\", \"gridcolor\": \"white\", \"linecolor\": \"white\", \"minorgridcolor\": \"white\", \"startlinecolor\": \"#2a3f5f\"}, \"type\": \"carpet\"}], \"choropleth\": [{\"colorbar\": {\"outlinewidth\": 0, \"ticks\": \"\"}, \"type\": \"choropleth\"}], \"contour\": [{\"colorbar\": {\"outlinewidth\": 0, \"ticks\": \"\"}, \"colorscale\": [[0.0, \"#0d0887\"], [0.1111111111111111, \"#46039f\"], [0.2222222222222222, \"#7201a8\"], [0.3333333333333333, \"#9c179e\"], [0.4444444444444444, \"#bd3786\"], [0.5555555555555556, \"#d8576b\"], [0.6666666666666666, \"#ed7953\"], [0.7777777777777778, \"#fb9f3a\"], [0.8888888888888888, \"#fdca26\"], [1.0, \"#f0f921\"]], \"type\": \"contour\"}], \"contourcarpet\": [{\"colorbar\": {\"outlinewidth\": 0, \"ticks\": \"\"}, \"type\": \"contourcarpet\"}], \"heatmap\": [{\"colorbar\": {\"outlinewidth\": 0, \"ticks\": \"\"}, \"colorscale\": [[0.0, \"#0d0887\"], [0.1111111111111111, \"#46039f\"], [0.2222222222222222, \"#7201a8\"], [0.3333333333333333, \"#9c179e\"], [0.4444444444444444, \"#bd3786\"], [0.5555555555555556, \"#d8576b\"], [0.6666666666666666, \"#ed7953\"], [0.7777777777777778, \"#fb9f3a\"], [0.8888888888888888, \"#fdca26\"], [1.0, \"#f0f921\"]], \"type\": \"heatmap\"}], \"heatmapgl\": [{\"colorbar\": {\"outlinewidth\": 0, \"ticks\": \"\"}, \"colorscale\": [[0.0, \"#0d0887\"], [0.1111111111111111, \"#46039f\"], [0.2222222222222222, \"#7201a8\"], [0.3333333333333333, \"#9c179e\"], [0.4444444444444444, \"#bd3786\"], [0.5555555555555556, \"#d8576b\"], [0.6666666666666666, \"#ed7953\"], [0.7777777777777778, \"#fb9f3a\"], [0.8888888888888888, \"#fdca26\"], [1.0, \"#f0f921\"]], \"type\": \"heatmapgl\"}], \"histogram\": [{\"marker\": {\"colorbar\": {\"outlinewidth\": 0, \"ticks\": \"\"}}, \"type\": \"histogram\"}], \"histogram2d\": [{\"colorbar\": {\"outlinewidth\": 0, \"ticks\": \"\"}, \"colorscale\": [[0.0, \"#0d0887\"], [0.1111111111111111, \"#46039f\"], [0.2222222222222222, \"#7201a8\"], [0.3333333333333333, \"#9c179e\"], [0.4444444444444444, \"#bd3786\"], [0.5555555555555556, \"#d8576b\"], [0.6666666666666666, \"#ed7953\"], [0.7777777777777778, \"#fb9f3a\"], [0.8888888888888888, \"#fdca26\"], [1.0, \"#f0f921\"]], \"type\": \"histogram2d\"}], \"histogram2dcontour\": [{\"colorbar\": {\"outlinewidth\": 0, \"ticks\": \"\"}, \"colorscale\": [[0.0, \"#0d0887\"], [0.1111111111111111, \"#46039f\"], [0.2222222222222222, \"#7201a8\"], [0.3333333333333333, \"#9c179e\"], [0.4444444444444444, \"#bd3786\"], [0.5555555555555556, \"#d8576b\"], [0.6666666666666666, \"#ed7953\"], [0.7777777777777778, \"#fb9f3a\"], [0.8888888888888888, \"#fdca26\"], [1.0, \"#f0f921\"]], \"type\": \"histogram2dcontour\"}], \"mesh3d\": [{\"colorbar\": {\"outlinewidth\": 0, \"ticks\": \"\"}, \"type\": \"mesh3d\"}], \"parcoords\": [{\"line\": {\"colorbar\": {\"outlinewidth\": 0, \"ticks\": \"\"}}, \"type\": \"parcoords\"}], \"pie\": [{\"automargin\": true, \"type\": \"pie\"}], \"scatter\": [{\"marker\": {\"colorbar\": {\"outlinewidth\": 0, \"ticks\": \"\"}}, \"type\": \"scatter\"}], \"scatter3d\": [{\"line\": {\"colorbar\": {\"outlinewidth\": 0, \"ticks\": \"\"}}, \"marker\": {\"colorbar\": {\"outlinewidth\": 0, \"ticks\": \"\"}}, \"type\": \"scatter3d\"}], \"scattercarpet\": [{\"marker\": {\"colorbar\": {\"outlinewidth\": 0, \"ticks\": \"\"}}, \"type\": \"scattercarpet\"}], \"scattergeo\": [{\"marker\": {\"colorbar\": {\"outlinewidth\": 0, \"ticks\": \"\"}}, \"type\": \"scattergeo\"}], \"scattergl\": [{\"marker\": {\"colorbar\": {\"outlinewidth\": 0, \"ticks\": \"\"}}, \"type\": \"scattergl\"}], \"scattermapbox\": [{\"marker\": {\"colorbar\": {\"outlinewidth\": 0, \"ticks\": \"\"}}, \"type\": \"scattermapbox\"}], \"scatterpolar\": [{\"marker\": {\"colorbar\": {\"outlinewidth\": 0, \"ticks\": \"\"}}, \"type\": \"scatterpolar\"}], \"scatterpolargl\": [{\"marker\": {\"colorbar\": {\"outlinewidth\": 0, \"ticks\": \"\"}}, \"type\": \"scatterpolargl\"}], \"scatterternary\": [{\"marker\": {\"colorbar\": {\"outlinewidth\": 0, \"ticks\": \"\"}}, \"type\": \"scatterternary\"}], \"surface\": [{\"colorbar\": {\"outlinewidth\": 0, \"ticks\": \"\"}, \"colorscale\": [[0.0, \"#0d0887\"], [0.1111111111111111, \"#46039f\"], [0.2222222222222222, \"#7201a8\"], [0.3333333333333333, \"#9c179e\"], [0.4444444444444444, \"#bd3786\"], [0.5555555555555556, \"#d8576b\"], [0.6666666666666666, \"#ed7953\"], [0.7777777777777778, \"#fb9f3a\"], [0.8888888888888888, \"#fdca26\"], [1.0, \"#f0f921\"]], \"type\": \"surface\"}], \"table\": [{\"cells\": {\"fill\": {\"color\": \"#EBF0F8\"}, \"line\": {\"color\": \"white\"}}, \"header\": {\"fill\": {\"color\": \"#C8D4E3\"}, \"line\": {\"color\": \"white\"}}, \"type\": \"table\"}]}, \"layout\": {\"annotationdefaults\": {\"arrowcolor\": \"#2a3f5f\", \"arrowhead\": 0, \"arrowwidth\": 1}, \"coloraxis\": {\"colorbar\": {\"outlinewidth\": 0, \"ticks\": \"\"}}, \"colorscale\": {\"diverging\": [[0, \"#8e0152\"], [0.1, \"#c51b7d\"], [0.2, \"#de77ae\"], [0.3, \"#f1b6da\"], [0.4, \"#fde0ef\"], [0.5, \"#f7f7f7\"], [0.6, \"#e6f5d0\"], [0.7, \"#b8e186\"], [0.8, \"#7fbc41\"], [0.9, \"#4d9221\"], [1, \"#276419\"]], \"sequential\": [[0.0, \"#0d0887\"], [0.1111111111111111, \"#46039f\"], [0.2222222222222222, \"#7201a8\"], [0.3333333333333333, \"#9c179e\"], [0.4444444444444444, \"#bd3786\"], [0.5555555555555556, \"#d8576b\"], [0.6666666666666666, \"#ed7953\"], [0.7777777777777778, \"#fb9f3a\"], [0.8888888888888888, \"#fdca26\"], [1.0, \"#f0f921\"]], \"sequentialminus\": [[0.0, \"#0d0887\"], [0.1111111111111111, \"#46039f\"], [0.2222222222222222, \"#7201a8\"], [0.3333333333333333, \"#9c179e\"], [0.4444444444444444, \"#bd3786\"], [0.5555555555555556, \"#d8576b\"], [0.6666666666666666, \"#ed7953\"], [0.7777777777777778, \"#fb9f3a\"], [0.8888888888888888, \"#fdca26\"], [1.0, \"#f0f921\"]]}, \"colorway\": [\"#636efa\", \"#EF553B\", \"#00cc96\", \"#ab63fa\", \"#FFA15A\", \"#19d3f3\", \"#FF6692\", \"#B6E880\", \"#FF97FF\", \"#FECB52\"], \"font\": {\"color\": \"#2a3f5f\"}, \"geo\": {\"bgcolor\": \"white\", \"lakecolor\": \"white\", \"landcolor\": \"#E5ECF6\", \"showlakes\": true, \"showland\": true, \"subunitcolor\": \"white\"}, \"hoverlabel\": {\"align\": \"left\"}, \"hovermode\": \"closest\", \"mapbox\": {\"style\": \"light\"}, \"paper_bgcolor\": \"white\", \"plot_bgcolor\": \"#E5ECF6\", \"polar\": {\"angularaxis\": {\"gridcolor\": \"white\", \"linecolor\": \"white\", \"ticks\": \"\"}, \"bgcolor\": \"#E5ECF6\", \"radialaxis\": {\"gridcolor\": \"white\", \"linecolor\": \"white\", \"ticks\": \"\"}}, \"scene\": {\"xaxis\": {\"backgroundcolor\": \"#E5ECF6\", \"gridcolor\": \"white\", \"gridwidth\": 2, \"linecolor\": \"white\", \"showbackground\": true, \"ticks\": \"\", \"zerolinecolor\": \"white\"}, \"yaxis\": {\"backgroundcolor\": \"#E5ECF6\", \"gridcolor\": \"white\", \"gridwidth\": 2, \"linecolor\": \"white\", \"showbackground\": true, \"ticks\": \"\", \"zerolinecolor\": \"white\"}, \"zaxis\": {\"backgroundcolor\": \"#E5ECF6\", \"gridcolor\": \"white\", \"gridwidth\": 2, \"linecolor\": \"white\", \"showbackground\": true, \"ticks\": \"\", \"zerolinecolor\": \"white\"}}, \"shapedefaults\": {\"line\": {\"color\": \"#2a3f5f\"}}, \"ternary\": {\"aaxis\": {\"gridcolor\": \"white\", \"linecolor\": \"white\", \"ticks\": \"\"}, \"baxis\": {\"gridcolor\": \"white\", \"linecolor\": \"white\", \"ticks\": \"\"}, \"bgcolor\": \"#E5ECF6\", \"caxis\": {\"gridcolor\": \"white\", \"linecolor\": \"white\", \"ticks\": \"\"}}, \"title\": {\"x\": 0.05}, \"xaxis\": {\"automargin\": true, \"gridcolor\": \"white\", \"linecolor\": \"white\", \"ticks\": \"\", \"title\": {\"standoff\": 15}, \"zerolinecolor\": \"white\", \"zerolinewidth\": 2}, \"yaxis\": {\"automargin\": true, \"gridcolor\": \"white\", \"linecolor\": \"white\", \"ticks\": \"\", \"title\": {\"standoff\": 15}, \"zerolinecolor\": \"white\", \"zerolinewidth\": 2}}}, \"title\": {\"text\": \"Comparaci\\u00f3n rendimiento Python, Numpy y Numba en intevalos()\"}, \"xaxis\": {\"anchor\": \"y\", \"domain\": [0.0, 1.0], \"title\": {\"text\": \"Batch\"}}, \"yaxis\": {\"anchor\": \"x\", \"domain\": [0.0, 1.0], \"title\": {\"text\": \"Tiempo\"}}},\n",
              "                        {\"responsive\": true}\n",
              "                    ).then(function(){\n",
              "                            \n",
              "var gd = document.getElementById('0589bbaa-2693-4494-b811-fd76161fe362');\n",
              "var x = new MutationObserver(function (mutations, observer) {{\n",
              "        var display = window.getComputedStyle(gd).display;\n",
              "        if (!display || display === 'none') {{\n",
              "            console.log([gd, 'removed!']);\n",
              "            Plotly.purge(gd);\n",
              "            observer.disconnect();\n",
              "        }}\n",
              "}});\n",
              "\n",
              "// Listen for the removal of the full notebook cells\n",
              "var notebookContainer = gd.closest('#notebook-container');\n",
              "if (notebookContainer) {{\n",
              "    x.observe(notebookContainer, {childList: true});\n",
              "}}\n",
              "\n",
              "// Listen for the clearing of the current output cell\n",
              "var outputEl = gd.closest('.output');\n",
              "if (outputEl) {{\n",
              "    x.observe(outputEl, {childList: true});\n",
              "}}\n",
              "\n",
              "                        })\n",
              "                };\n",
              "                \n",
              "            </script>\n",
              "        </div>\n",
              "</body>\n",
              "</html>"
            ]
          },
          "metadata": {
            "tags": []
          }
        }
      ]
    },
    {
      "cell_type": "code",
      "metadata": {
        "id": "6Rxz-3fRL76U",
        "outputId": "ddcdc0dd-18ce-41ab-ed8e-d7e74d2cd70e",
        "colab": {
          "base_uri": "https://localhost:8080/",
          "height": 542
        }
      },
      "source": [
        "px.line(df1[df1['Batch'] > 14], x='Batch', y='Tiempo', color='Función', title='Comparación rendimiento Python, Numpy y Numba en intevalos() (últimos batches)')"
      ],
      "execution_count": 74,
      "outputs": [
        {
          "output_type": "display_data",
          "data": {
            "text/html": [
              "<html>\n",
              "<head><meta charset=\"utf-8\" /></head>\n",
              "<body>\n",
              "    <div>\n",
              "            <script src=\"https://cdnjs.cloudflare.com/ajax/libs/mathjax/2.7.5/MathJax.js?config=TeX-AMS-MML_SVG\"></script><script type=\"text/javascript\">if (window.MathJax) {MathJax.Hub.Config({SVG: {font: \"STIX-Web\"}});}</script>\n",
              "                <script type=\"text/javascript\">window.PlotlyConfig = {MathJaxConfig: 'local'};</script>\n",
              "        <script src=\"https://cdn.plot.ly/plotly-latest.min.js\"></script>    \n",
              "            <div id=\"58b48ed8-2581-40e9-a57f-6d697a76c8ff\" class=\"plotly-graph-div\" style=\"height:525px; width:100%;\"></div>\n",
              "            <script type=\"text/javascript\">\n",
              "                \n",
              "                    window.PLOTLYENV=window.PLOTLYENV || {};\n",
              "                    \n",
              "                if (document.getElementById(\"58b48ed8-2581-40e9-a57f-6d697a76c8ff\")) {\n",
              "                    Plotly.newPlot(\n",
              "                        '58b48ed8-2581-40e9-a57f-6d697a76c8ff',\n",
              "                        [{\"hoverlabel\": {\"namelength\": 0}, \"hovertemplate\": \"Funci\\u00f3n=python<br>Batch=%{x}<br>Tiempo=%{y}\", \"legendgroup\": \"Funci\\u00f3n=python\", \"line\": {\"color\": \"#636efa\", \"dash\": \"solid\"}, \"mode\": \"lines\", \"name\": \"Funci\\u00f3n=python\", \"showlegend\": true, \"type\": \"scatter\", \"x\": [15, 16, 17, 18], \"xaxis\": \"x\", \"y\": [0.0022709149998263456, 0.0023652410000067903, 0.0025265059994126204, 0.002629259999594069], \"yaxis\": \"y\"}, {\"hoverlabel\": {\"namelength\": 0}, \"hovertemplate\": \"Funci\\u00f3n=numpy<br>Batch=%{x}<br>Tiempo=%{y}\", \"legendgroup\": \"Funci\\u00f3n=numpy\", \"line\": {\"color\": \"#EF553B\", \"dash\": \"solid\"}, \"mode\": \"lines\", \"name\": \"Funci\\u00f3n=numpy\", \"showlegend\": true, \"type\": \"scatter\", \"x\": [15, 16, 17, 18], \"xaxis\": \"x\", \"y\": [4.6892000682419166e-05, 5.550399873754941e-05, 4.164400161243975e-05, 3.865100006805733e-05], \"yaxis\": \"y\"}, {\"hoverlabel\": {\"namelength\": 0}, \"hovertemplate\": \"Funci\\u00f3n=python + numba<br>Batch=%{x}<br>Tiempo=%{y}\", \"legendgroup\": \"Funci\\u00f3n=python + numba\", \"line\": {\"color\": \"#00cc96\", \"dash\": \"solid\"}, \"mode\": \"lines\", \"name\": \"Funci\\u00f3n=python + numba\", \"showlegend\": true, \"type\": \"scatter\", \"x\": [15, 16, 17, 18], \"xaxis\": \"x\", \"y\": [0.00012435799908416811, 9.744099952513352e-05, 9.861299986368977e-05, 0.00010354299956816249], \"yaxis\": \"y\"}, {\"hoverlabel\": {\"namelength\": 0}, \"hovertemplate\": \"Funci\\u00f3n=numpy + numba<br>Batch=%{x}<br>Tiempo=%{y}\", \"legendgroup\": \"Funci\\u00f3n=numpy + numba\", \"line\": {\"color\": \"#ab63fa\", \"dash\": \"solid\"}, \"mode\": \"lines\", \"name\": \"Funci\\u00f3n=numpy + numba\", \"showlegend\": true, \"type\": \"scatter\", \"x\": [15, 16, 17, 18], \"xaxis\": \"x\", \"y\": [1.0552999810897745e-05, 8.028999218367971e-06, 8.070001058513299e-06, 8.426000931649469e-06], \"yaxis\": \"y\"}],\n",
              "                        {\"legend\": {\"tracegroupgap\": 0}, \"template\": {\"data\": {\"bar\": [{\"error_x\": {\"color\": \"#2a3f5f\"}, \"error_y\": {\"color\": \"#2a3f5f\"}, \"marker\": {\"line\": {\"color\": \"#E5ECF6\", \"width\": 0.5}}, \"type\": \"bar\"}], \"barpolar\": [{\"marker\": {\"line\": {\"color\": \"#E5ECF6\", \"width\": 0.5}}, \"type\": \"barpolar\"}], \"carpet\": [{\"aaxis\": {\"endlinecolor\": \"#2a3f5f\", \"gridcolor\": \"white\", \"linecolor\": \"white\", \"minorgridcolor\": \"white\", \"startlinecolor\": \"#2a3f5f\"}, \"baxis\": {\"endlinecolor\": \"#2a3f5f\", \"gridcolor\": \"white\", \"linecolor\": \"white\", \"minorgridcolor\": \"white\", \"startlinecolor\": \"#2a3f5f\"}, \"type\": \"carpet\"}], \"choropleth\": [{\"colorbar\": {\"outlinewidth\": 0, \"ticks\": \"\"}, \"type\": \"choropleth\"}], \"contour\": [{\"colorbar\": {\"outlinewidth\": 0, \"ticks\": \"\"}, \"colorscale\": [[0.0, \"#0d0887\"], [0.1111111111111111, \"#46039f\"], [0.2222222222222222, \"#7201a8\"], [0.3333333333333333, \"#9c179e\"], [0.4444444444444444, \"#bd3786\"], [0.5555555555555556, \"#d8576b\"], [0.6666666666666666, \"#ed7953\"], [0.7777777777777778, \"#fb9f3a\"], [0.8888888888888888, \"#fdca26\"], [1.0, \"#f0f921\"]], \"type\": \"contour\"}], \"contourcarpet\": [{\"colorbar\": {\"outlinewidth\": 0, \"ticks\": \"\"}, \"type\": \"contourcarpet\"}], \"heatmap\": [{\"colorbar\": {\"outlinewidth\": 0, \"ticks\": \"\"}, \"colorscale\": [[0.0, \"#0d0887\"], [0.1111111111111111, \"#46039f\"], [0.2222222222222222, \"#7201a8\"], [0.3333333333333333, \"#9c179e\"], [0.4444444444444444, \"#bd3786\"], [0.5555555555555556, \"#d8576b\"], [0.6666666666666666, \"#ed7953\"], [0.7777777777777778, \"#fb9f3a\"], [0.8888888888888888, \"#fdca26\"], [1.0, \"#f0f921\"]], \"type\": \"heatmap\"}], \"heatmapgl\": [{\"colorbar\": {\"outlinewidth\": 0, \"ticks\": \"\"}, \"colorscale\": [[0.0, \"#0d0887\"], [0.1111111111111111, \"#46039f\"], [0.2222222222222222, \"#7201a8\"], [0.3333333333333333, \"#9c179e\"], [0.4444444444444444, \"#bd3786\"], [0.5555555555555556, \"#d8576b\"], [0.6666666666666666, \"#ed7953\"], [0.7777777777777778, \"#fb9f3a\"], [0.8888888888888888, \"#fdca26\"], [1.0, \"#f0f921\"]], \"type\": \"heatmapgl\"}], \"histogram\": [{\"marker\": {\"colorbar\": {\"outlinewidth\": 0, \"ticks\": \"\"}}, \"type\": \"histogram\"}], \"histogram2d\": [{\"colorbar\": {\"outlinewidth\": 0, \"ticks\": \"\"}, \"colorscale\": [[0.0, \"#0d0887\"], [0.1111111111111111, \"#46039f\"], [0.2222222222222222, \"#7201a8\"], [0.3333333333333333, \"#9c179e\"], [0.4444444444444444, \"#bd3786\"], [0.5555555555555556, \"#d8576b\"], [0.6666666666666666, \"#ed7953\"], [0.7777777777777778, \"#fb9f3a\"], [0.8888888888888888, \"#fdca26\"], [1.0, \"#f0f921\"]], \"type\": \"histogram2d\"}], \"histogram2dcontour\": [{\"colorbar\": {\"outlinewidth\": 0, \"ticks\": \"\"}, \"colorscale\": [[0.0, \"#0d0887\"], [0.1111111111111111, \"#46039f\"], [0.2222222222222222, \"#7201a8\"], [0.3333333333333333, \"#9c179e\"], [0.4444444444444444, \"#bd3786\"], [0.5555555555555556, \"#d8576b\"], [0.6666666666666666, \"#ed7953\"], [0.7777777777777778, \"#fb9f3a\"], [0.8888888888888888, \"#fdca26\"], [1.0, \"#f0f921\"]], \"type\": \"histogram2dcontour\"}], \"mesh3d\": [{\"colorbar\": {\"outlinewidth\": 0, \"ticks\": \"\"}, \"type\": \"mesh3d\"}], \"parcoords\": [{\"line\": {\"colorbar\": {\"outlinewidth\": 0, \"ticks\": \"\"}}, \"type\": \"parcoords\"}], \"pie\": [{\"automargin\": true, \"type\": \"pie\"}], \"scatter\": [{\"marker\": {\"colorbar\": {\"outlinewidth\": 0, \"ticks\": \"\"}}, \"type\": \"scatter\"}], \"scatter3d\": [{\"line\": {\"colorbar\": {\"outlinewidth\": 0, \"ticks\": \"\"}}, \"marker\": {\"colorbar\": {\"outlinewidth\": 0, \"ticks\": \"\"}}, \"type\": \"scatter3d\"}], \"scattercarpet\": [{\"marker\": {\"colorbar\": {\"outlinewidth\": 0, \"ticks\": \"\"}}, \"type\": \"scattercarpet\"}], \"scattergeo\": [{\"marker\": {\"colorbar\": {\"outlinewidth\": 0, \"ticks\": \"\"}}, \"type\": \"scattergeo\"}], \"scattergl\": [{\"marker\": {\"colorbar\": {\"outlinewidth\": 0, \"ticks\": \"\"}}, \"type\": \"scattergl\"}], \"scattermapbox\": [{\"marker\": {\"colorbar\": {\"outlinewidth\": 0, \"ticks\": \"\"}}, \"type\": \"scattermapbox\"}], \"scatterpolar\": [{\"marker\": {\"colorbar\": {\"outlinewidth\": 0, \"ticks\": \"\"}}, \"type\": \"scatterpolar\"}], \"scatterpolargl\": [{\"marker\": {\"colorbar\": {\"outlinewidth\": 0, \"ticks\": \"\"}}, \"type\": \"scatterpolargl\"}], \"scatterternary\": [{\"marker\": {\"colorbar\": {\"outlinewidth\": 0, \"ticks\": \"\"}}, \"type\": \"scatterternary\"}], \"surface\": [{\"colorbar\": {\"outlinewidth\": 0, \"ticks\": \"\"}, \"colorscale\": [[0.0, \"#0d0887\"], [0.1111111111111111, \"#46039f\"], [0.2222222222222222, \"#7201a8\"], [0.3333333333333333, \"#9c179e\"], [0.4444444444444444, \"#bd3786\"], [0.5555555555555556, \"#d8576b\"], [0.6666666666666666, \"#ed7953\"], [0.7777777777777778, \"#fb9f3a\"], [0.8888888888888888, \"#fdca26\"], [1.0, \"#f0f921\"]], \"type\": \"surface\"}], \"table\": [{\"cells\": {\"fill\": {\"color\": \"#EBF0F8\"}, \"line\": {\"color\": \"white\"}}, \"header\": {\"fill\": {\"color\": \"#C8D4E3\"}, \"line\": {\"color\": \"white\"}}, \"type\": \"table\"}]}, \"layout\": {\"annotationdefaults\": {\"arrowcolor\": \"#2a3f5f\", \"arrowhead\": 0, \"arrowwidth\": 1}, \"coloraxis\": {\"colorbar\": {\"outlinewidth\": 0, \"ticks\": \"\"}}, \"colorscale\": {\"diverging\": [[0, \"#8e0152\"], [0.1, \"#c51b7d\"], [0.2, \"#de77ae\"], [0.3, \"#f1b6da\"], [0.4, \"#fde0ef\"], [0.5, \"#f7f7f7\"], [0.6, \"#e6f5d0\"], [0.7, \"#b8e186\"], [0.8, \"#7fbc41\"], [0.9, \"#4d9221\"], [1, \"#276419\"]], \"sequential\": [[0.0, \"#0d0887\"], [0.1111111111111111, \"#46039f\"], [0.2222222222222222, \"#7201a8\"], [0.3333333333333333, \"#9c179e\"], [0.4444444444444444, \"#bd3786\"], [0.5555555555555556, \"#d8576b\"], [0.6666666666666666, \"#ed7953\"], [0.7777777777777778, \"#fb9f3a\"], [0.8888888888888888, \"#fdca26\"], [1.0, \"#f0f921\"]], \"sequentialminus\": [[0.0, \"#0d0887\"], [0.1111111111111111, \"#46039f\"], [0.2222222222222222, \"#7201a8\"], [0.3333333333333333, \"#9c179e\"], [0.4444444444444444, \"#bd3786\"], [0.5555555555555556, \"#d8576b\"], [0.6666666666666666, \"#ed7953\"], [0.7777777777777778, \"#fb9f3a\"], [0.8888888888888888, \"#fdca26\"], [1.0, \"#f0f921\"]]}, \"colorway\": [\"#636efa\", \"#EF553B\", \"#00cc96\", \"#ab63fa\", \"#FFA15A\", \"#19d3f3\", \"#FF6692\", \"#B6E880\", \"#FF97FF\", \"#FECB52\"], \"font\": {\"color\": \"#2a3f5f\"}, \"geo\": {\"bgcolor\": \"white\", \"lakecolor\": \"white\", \"landcolor\": \"#E5ECF6\", \"showlakes\": true, \"showland\": true, \"subunitcolor\": \"white\"}, \"hoverlabel\": {\"align\": \"left\"}, \"hovermode\": \"closest\", \"mapbox\": {\"style\": \"light\"}, \"paper_bgcolor\": \"white\", \"plot_bgcolor\": \"#E5ECF6\", \"polar\": {\"angularaxis\": {\"gridcolor\": \"white\", \"linecolor\": \"white\", \"ticks\": \"\"}, \"bgcolor\": \"#E5ECF6\", \"radialaxis\": {\"gridcolor\": \"white\", \"linecolor\": \"white\", \"ticks\": \"\"}}, \"scene\": {\"xaxis\": {\"backgroundcolor\": \"#E5ECF6\", \"gridcolor\": \"white\", \"gridwidth\": 2, \"linecolor\": \"white\", \"showbackground\": true, \"ticks\": \"\", \"zerolinecolor\": \"white\"}, \"yaxis\": {\"backgroundcolor\": \"#E5ECF6\", \"gridcolor\": \"white\", \"gridwidth\": 2, \"linecolor\": \"white\", \"showbackground\": true, \"ticks\": \"\", \"zerolinecolor\": \"white\"}, \"zaxis\": {\"backgroundcolor\": \"#E5ECF6\", \"gridcolor\": \"white\", \"gridwidth\": 2, \"linecolor\": \"white\", \"showbackground\": true, \"ticks\": \"\", \"zerolinecolor\": \"white\"}}, \"shapedefaults\": {\"line\": {\"color\": \"#2a3f5f\"}}, \"ternary\": {\"aaxis\": {\"gridcolor\": \"white\", \"linecolor\": \"white\", \"ticks\": \"\"}, \"baxis\": {\"gridcolor\": \"white\", \"linecolor\": \"white\", \"ticks\": \"\"}, \"bgcolor\": \"#E5ECF6\", \"caxis\": {\"gridcolor\": \"white\", \"linecolor\": \"white\", \"ticks\": \"\"}}, \"title\": {\"x\": 0.05}, \"xaxis\": {\"automargin\": true, \"gridcolor\": \"white\", \"linecolor\": \"white\", \"ticks\": \"\", \"title\": {\"standoff\": 15}, \"zerolinecolor\": \"white\", \"zerolinewidth\": 2}, \"yaxis\": {\"automargin\": true, \"gridcolor\": \"white\", \"linecolor\": \"white\", \"ticks\": \"\", \"title\": {\"standoff\": 15}, \"zerolinecolor\": \"white\", \"zerolinewidth\": 2}}}, \"title\": {\"text\": \"Comparaci\\u00f3n rendimiento Python, Numpy y Numba en intevalos() (\\u00faltimos batches)\"}, \"xaxis\": {\"anchor\": \"y\", \"domain\": [0.0, 1.0], \"title\": {\"text\": \"Batch\"}}, \"yaxis\": {\"anchor\": \"x\", \"domain\": [0.0, 1.0], \"title\": {\"text\": \"Tiempo\"}}},\n",
              "                        {\"responsive\": true}\n",
              "                    ).then(function(){\n",
              "                            \n",
              "var gd = document.getElementById('58b48ed8-2581-40e9-a57f-6d697a76c8ff');\n",
              "var x = new MutationObserver(function (mutations, observer) {{\n",
              "        var display = window.getComputedStyle(gd).display;\n",
              "        if (!display || display === 'none') {{\n",
              "            console.log([gd, 'removed!']);\n",
              "            Plotly.purge(gd);\n",
              "            observer.disconnect();\n",
              "        }}\n",
              "}});\n",
              "\n",
              "// Listen for the removal of the full notebook cells\n",
              "var notebookContainer = gd.closest('#notebook-container');\n",
              "if (notebookContainer) {{\n",
              "    x.observe(notebookContainer, {childList: true});\n",
              "}}\n",
              "\n",
              "// Listen for the clearing of the current output cell\n",
              "var outputEl = gd.closest('.output');\n",
              "if (outputEl) {{\n",
              "    x.observe(outputEl, {childList: true});\n",
              "}}\n",
              "\n",
              "                        })\n",
              "                };\n",
              "                \n",
              "            </script>\n",
              "        </div>\n",
              "</body>\n",
              "</html>"
            ]
          },
          "metadata": {
            "tags": []
          }
        }
      ]
    },
    {
      "cell_type": "markdown",
      "metadata": {
        "id": "XRrAlFzPMDNp"
      },
      "source": [
        "Al comparar lo obtenido con lo que sucede al agregar Numba en ambos casos, se observa un comportamiento inesperado en que los valores obtenidos utilizando Numba son notablemente mayores para el primer batch de votes. No obstante, al revisar el comportamiento hacia los últimos batches, se observa un comportamiento esperado, en que Numpy+Numba muestra el mejor rendimiento, seguido por Numpy, luego por Python+Numba y finalmente el peor desempeño es obtenido al usar únicamente Python."
      ]
    },
    {
      "cell_type": "markdown",
      "metadata": {
        "id": "DljdJw8m0gYC"
      },
      "source": [
        "## 1.5 Plot de Resultados Bayesianos"
      ]
    },
    {
      "cell_type": "markdown",
      "metadata": {
        "id": "cQAxOM5D08Hl"
      },
      "source": [
        "Llego la hora de visualizar los resultados obtenidos, para esto solo ejecute las siguientes celdas y observe lo que sucede :3. ¿Qué logra observar de los resultados?, ¿La solución resulta trivial?\n",
        "\n",
        "En esta sección esperamos que solo comenten con lo que logran visualizar de los dataframes."
      ]
    },
    {
      "cell_type": "code",
      "metadata": {
        "colab": {
          "base_uri": "https://localhost:8080/",
          "height": 732
        },
        "id": "N5E2mNYXaafI",
        "outputId": "d710247b-bf80-4c6f-ea13-29f9a9091747"
      },
      "source": [
        "\n",
        "votos = votes[len(votes)-1]\n",
        "posteo = post[len(post)-1]\n",
        "print(\"lower bounds aproximados:\")\n",
        "posterior_mean, std_err = intevalos_numpy(votos[:, 0], votos[:, 1])\n",
        "lb = posterior_mean - std_err\n",
        "print(\"\\nTop 20 post ordenador por el limite inferior:\\n\")\n",
        "order = np.argsort(-lb)\n",
        "vote_post = {'Votos (+)':votos[order[:20], 0], 'Votos (-)':votos[order[:20], 1] ,'Post':np.array(posteo)[order[:20]], 'url': np.array(url[len(url)-1])[order[:20]]}\n",
        "df = pd.DataFrame(data=vote_post)\n",
        "ordered_post = df.Post\n",
        "df"
      ],
      "execution_count": 89,
      "outputs": [
        {
          "output_type": "stream",
          "text": [
            "lower bounds aproximados:\n",
            "\n",
            "Top 20 post ordenador por el limite inferior:\n",
            "\n"
          ],
          "name": "stdout"
        },
        {
          "output_type": "execute_result",
          "data": {
            "text/html": [
              "<div>\n",
              "<style scoped>\n",
              "    .dataframe tbody tr th:only-of-type {\n",
              "        vertical-align: middle;\n",
              "    }\n",
              "\n",
              "    .dataframe tbody tr th {\n",
              "        vertical-align: top;\n",
              "    }\n",
              "\n",
              "    .dataframe thead th {\n",
              "        text-align: right;\n",
              "    }\n",
              "</style>\n",
              "<table border=\"1\" class=\"dataframe\">\n",
              "  <thead>\n",
              "    <tr style=\"text-align: right;\">\n",
              "      <th></th>\n",
              "      <th>Votos (+)</th>\n",
              "      <th>Votos (-)</th>\n",
              "      <th>Post</th>\n",
              "      <th>url</th>\n",
              "    </tr>\n",
              "  </thead>\n",
              "  <tbody>\n",
              "    <tr>\n",
              "      <th>0</th>\n",
              "      <td>802</td>\n",
              "      <td>0</td>\n",
              "      <td>Entrevista al covid</td>\n",
              "      <td>https://i.redd.it/tnuogzo7og371.jpg</td>\n",
              "    </tr>\n",
              "    <tr>\n",
              "      <th>1</th>\n",
              "      <td>765</td>\n",
              "      <td>0</td>\n",
              "      <td>1900 street scene mural in northern Chile</td>\n",
              "      <td>https://i.redd.it/5mmiiogzli371.jpg</td>\n",
              "    </tr>\n",
              "    <tr>\n",
              "      <th>2</th>\n",
              "      <td>720</td>\n",
              "      <td>0</td>\n",
              "      <td>Debate presidencial 2005, pregunta clave de Ma...</td>\n",
              "      <td>https://v.redd.it/xj4g8rc5sw671</td>\n",
              "    </tr>\n",
              "    <tr>\n",
              "      <th>3</th>\n",
              "      <td>520</td>\n",
              "      <td>0</td>\n",
              "      <td>¿Qué hacer con Talca? Bueno...</td>\n",
              "      <td>https://i.redd.it/1tk589eq89771.png</td>\n",
              "    </tr>\n",
              "    <tr>\n",
              "      <th>4</th>\n",
              "      <td>508</td>\n",
              "      <td>0</td>\n",
              "      <td>Usuario de r/chile realiza pregunta a JC Rodrí...</td>\n",
              "      <td>https://v.redd.it/lkth8jvxrw371</td>\n",
              "    </tr>\n",
              "    <tr>\n",
              "      <th>5</th>\n",
              "      <td>497</td>\n",
              "      <td>0</td>\n",
              "      <td>Chile inaugurates Latin America's first thermo...</td>\n",
              "      <td>https://www.france24.com/en/live-news/20210608...</td>\n",
              "    </tr>\n",
              "    <tr>\n",
              "      <th>6</th>\n",
              "      <td>457</td>\n",
              "      <td>0</td>\n",
              "      <td>El bombardero de Lo Prado: \"Se lo mando seco e...</td>\n",
              "      <td>https://v.redd.it/l6c86bhd2w571</td>\n",
              "    </tr>\n",
              "    <tr>\n",
              "      <th>7</th>\n",
              "      <td>444</td>\n",
              "      <td>0</td>\n",
              "      <td>Aysén hoy 2, no se subieron todas juntas (Bonu...</td>\n",
              "      <td>https://www.reddit.com/gallery/o6f7lr</td>\n",
              "    </tr>\n",
              "    <tr>\n",
              "      <th>8</th>\n",
              "      <td>404</td>\n",
              "      <td>0</td>\n",
              "      <td>Juan Carlos Bodoque, This Charming Man (Video ...</td>\n",
              "      <td>https://v.redd.it/wf0yqt92tv771</td>\n",
              "    </tr>\n",
              "    <tr>\n",
              "      <th>9</th>\n",
              "      <td>402</td>\n",
              "      <td>0</td>\n",
              "      <td>OP me concede un pedido de mapa. Se agradece. ...</td>\n",
              "      <td>https://i.redd.it/ha8v9ldtcx371.jpg</td>\n",
              "    </tr>\n",
              "    <tr>\n",
              "      <th>10</th>\n",
              "      <td>344</td>\n",
              "      <td>0</td>\n",
              "      <td>Avión Pingüino Rey de Aerovías DAP que vuela e...</td>\n",
              "      <td>https://i.redd.it/f82si2h743771.jpg</td>\n",
              "    </tr>\n",
              "    <tr>\n",
              "      <th>11</th>\n",
              "      <td>335</td>\n",
              "      <td>0</td>\n",
              "      <td>Fotografía de un vendedor ambulante en la Plaz...</td>\n",
              "      <td>https://www.reddit.com/gallery/oc0qzt</td>\n",
              "    </tr>\n",
              "    <tr>\n",
              "      <th>12</th>\n",
              "      <td>271</td>\n",
              "      <td>0</td>\n",
              "      <td>Cuando el chico Paris y Siches eran compañeros...</td>\n",
              "      <td>https://v.redd.it/nkfiwmwgma571</td>\n",
              "    </tr>\n",
              "    <tr>\n",
              "      <th>13</th>\n",
              "      <td>248</td>\n",
              "      <td>0</td>\n",
              "      <td>Con 99% de aprobación: Bomberos es la instituc...</td>\n",
              "      <td>https://www.24horas.cl/nacional/bomberos-aprob...</td>\n",
              "    </tr>\n",
              "    <tr>\n",
              "      <th>14</th>\n",
              "      <td>240</td>\n",
              "      <td>0</td>\n",
              "      <td>el arriero Don Jose catalán junto a dos sobrev...</td>\n",
              "      <td>https://i.redd.it/q2oftzqyvo671.jpg</td>\n",
              "    </tr>\n",
              "    <tr>\n",
              "      <th>15</th>\n",
              "      <td>1498</td>\n",
              "      <td>15</td>\n",
              "      <td>Soporte VTR</td>\n",
              "      <td>https://i.redd.it/l9e0jclp2r471.jpg</td>\n",
              "    </tr>\n",
              "    <tr>\n",
              "      <th>16</th>\n",
              "      <td>1397</td>\n",
              "      <td>14</td>\n",
              "      <td>los candidatos según twitter</td>\n",
              "      <td>https://i.redd.it/lyuu8s9v11571.jpg</td>\n",
              "    </tr>\n",
              "    <tr>\n",
              "      <th>17</th>\n",
              "      <td>1234</td>\n",
              "      <td>12</td>\n",
              "      <td>Juan Carlos Bodoque ganó un Copihue de oro en ...</td>\n",
              "      <td>https://v.redd.it/xiopuhpl4c371</td>\n",
              "    </tr>\n",
              "    <tr>\n",
              "      <th>18</th>\n",
              "      <td>1383</td>\n",
              "      <td>14</td>\n",
              "      <td>Oye mama te quedo medio raro el sandwich</td>\n",
              "      <td>https://i.redd.it/f878usnmx8371.png</td>\n",
              "    </tr>\n",
              "    <tr>\n",
              "      <th>19</th>\n",
              "      <td>1174</td>\n",
              "      <td>12</td>\n",
              "      <td>Perritos rechonchos tomando sol en Puerto Varas</td>\n",
              "      <td>https://i.redd.it/03ottobv4b471.jpg</td>\n",
              "    </tr>\n",
              "  </tbody>\n",
              "</table>\n",
              "</div>"
            ],
            "text/plain": [
              "    Votos (+)  ...                                                url\n",
              "0         802  ...                https://i.redd.it/tnuogzo7og371.jpg\n",
              "1         765  ...                https://i.redd.it/5mmiiogzli371.jpg\n",
              "2         720  ...                    https://v.redd.it/xj4g8rc5sw671\n",
              "3         520  ...                https://i.redd.it/1tk589eq89771.png\n",
              "4         508  ...                    https://v.redd.it/lkth8jvxrw371\n",
              "5         497  ...  https://www.france24.com/en/live-news/20210608...\n",
              "6         457  ...                    https://v.redd.it/l6c86bhd2w571\n",
              "7         444  ...              https://www.reddit.com/gallery/o6f7lr\n",
              "8         404  ...                    https://v.redd.it/wf0yqt92tv771\n",
              "9         402  ...                https://i.redd.it/ha8v9ldtcx371.jpg\n",
              "10        344  ...                https://i.redd.it/f82si2h743771.jpg\n",
              "11        335  ...              https://www.reddit.com/gallery/oc0qzt\n",
              "12        271  ...                    https://v.redd.it/nkfiwmwgma571\n",
              "13        248  ...  https://www.24horas.cl/nacional/bomberos-aprob...\n",
              "14        240  ...                https://i.redd.it/q2oftzqyvo671.jpg\n",
              "15       1498  ...                https://i.redd.it/l9e0jclp2r471.jpg\n",
              "16       1397  ...                https://i.redd.it/lyuu8s9v11571.jpg\n",
              "17       1234  ...                    https://v.redd.it/xiopuhpl4c371\n",
              "18       1383  ...                https://i.redd.it/f878usnmx8371.png\n",
              "19       1174  ...                https://i.redd.it/03ottobv4b471.jpg\n",
              "\n",
              "[20 rows x 4 columns]"
            ]
          },
          "metadata": {
            "tags": []
          },
          "execution_count": 89
        }
      ]
    },
    {
      "cell_type": "code",
      "metadata": {
        "colab": {
          "base_uri": "https://localhost:8080/",
          "height": 542
        },
        "id": "ZZ-AY2XTuLa_",
        "outputId": "6caa705d-e074-4609-9780-99855fc424f3"
      },
      "source": [
        "r_order = order[::-1][-20:]\n",
        "data_dic = {'mean':posterior_mean[r_order], 'std_err':std_err[r_order], 'post':ordered_post[::-1]}\n",
        "df = pd.DataFrame(data=data_dic)\n",
        "fig = px.scatter(df, x=\"mean\", y=\"post\",\n",
        "                 error_x=\"std_err\")\n",
        "fig.show()"
      ],
      "execution_count": 85,
      "outputs": [
        {
          "output_type": "display_data",
          "data": {
            "text/html": [
              "<html>\n",
              "<head><meta charset=\"utf-8\" /></head>\n",
              "<body>\n",
              "    <div>\n",
              "            <script src=\"https://cdnjs.cloudflare.com/ajax/libs/mathjax/2.7.5/MathJax.js?config=TeX-AMS-MML_SVG\"></script><script type=\"text/javascript\">if (window.MathJax) {MathJax.Hub.Config({SVG: {font: \"STIX-Web\"}});}</script>\n",
              "                <script type=\"text/javascript\">window.PlotlyConfig = {MathJaxConfig: 'local'};</script>\n",
              "        <script src=\"https://cdn.plot.ly/plotly-latest.min.js\"></script>    \n",
              "            <div id=\"e76e297c-4044-44d1-a119-35202dd790a9\" class=\"plotly-graph-div\" style=\"height:525px; width:100%;\"></div>\n",
              "            <script type=\"text/javascript\">\n",
              "                \n",
              "                    window.PLOTLYENV=window.PLOTLYENV || {};\n",
              "                    \n",
              "                if (document.getElementById(\"e76e297c-4044-44d1-a119-35202dd790a9\")) {\n",
              "                    Plotly.newPlot(\n",
              "                        'e76e297c-4044-44d1-a119-35202dd790a9',\n",
              "                        [{\"error_x\": {\"array\": [0.0049781409127526675, 0.0045416732574753696, 0.004740163203177101, 0.004496931714208668, 0.004331940855098503, 0.006790065484721592, 0.0065736525894310735, 0.006021857410387971, 0.004881635312656, 0.004755023367942872, 0.004074061593433958, 0.004054041756800412, 0.0036912658892963067, 0.003586948008962045, 0.003299993373513935, 0.003228956610841434, 0.0031548699279092024, 0.002282155487370207, 0.0021484356739940634, 0.0020496878555671953]}, \"hoverlabel\": {\"namelength\": 0}, \"hovertemplate\": \"mean=%{x}<br>post=%{y}\", \"legendgroup\": \"\", \"marker\": {\"color\": \"#636efa\", \"symbol\": \"circle\"}, \"mode\": \"markers\", \"name\": \"\", \"showlegend\": false, \"type\": \"scatter\", \"x\": [0.9890572390572391, 0.9892780557541101, 0.9895833333333334, 0.9893842887473461, 0.9894389438943895, 0.9958677685950413, 0.996, 0.9963369963369964, 0.9970326409495549, 0.9971098265895953, 0.9975247524752475, 0.9975369458128078, 0.9977578475336323, 0.9978213507625272, 0.9979959919839679, 0.9980392156862745, 0.9980842911877394, 0.9986149584487535, 0.9986962190352021, 0.9987562189054726], \"xaxis\": \"x\", \"y\": [\"Perritos rechonchos tomando sol en Puerto Varas\", \"Oye mama te quedo medio raro el sandwich\", \"Juan Carlos Bodoque gan\\u00f3 un Copihue de oro en la categor\\u00eda \\\"personaje de ficci\\u00f3n de la d\\u00e9cada\\\"\", \"los candidatos seg\\u00fan twitter\", \"Soporte VTR\", \"el arriero Don Jose catal\\u00e1n junto a dos sobrevivientes de la ca\\u00edda del avi\\u00f3n uruguayo en la cordillera de los Andes 1972\", \"Con 99% de aprobaci\\u00f3n: Bomberos es la instituci\\u00f3n mejor evaluada de Chile seg\\u00fan Cadem\", \"Cuando el chico Paris y Siches eran compa\\u00f1eros de lucha\", \"Fotograf\\u00eda de un vendedor ambulante en la Plaza de la Rep\\u00fablica, Valdivia. 1941 Colorizada por mi.\", \"Avi\\u00f3n Ping\\u00fcino Rey de Aerov\\u00edas DAP que vuela entre Punta Arenas y la Ant\\u00e1rtica chilena\", \"OP me concede un pedido de mapa. Se agradece. (Hay m\\u00e1s habitantes en el \\u00e1rea roja que el resto del pa\\u00eds)\", \"Juan Carlos Bodoque, This Charming Man (Video oficial por Lonsoo.mp4)\", \"Ays\\u00e9n hoy 2, no se subieron todas juntas (Bonus el Mocka).\", \"El bombardero de Lo Prado: \\\"Se lo mando seco en el hocico\\\"\", \"Chile inaugurates Latin America's first thermosolar plant\", \"Usuario de r/chile realiza pregunta a JC Rodr\\u00edguez.\", \"\\u00bfQu\\u00e9 hacer con Talca? Bueno...\", \"Debate presidencial 2005, pregunta clave de Mauricio Hofmann\", \"1900 street scene mural in northern Chile\", \"Entrevista al covid\"], \"yaxis\": \"y\"}],\n",
              "                        {\"legend\": {\"tracegroupgap\": 0}, \"margin\": {\"t\": 60}, \"template\": {\"data\": {\"bar\": [{\"error_x\": {\"color\": \"#2a3f5f\"}, \"error_y\": {\"color\": \"#2a3f5f\"}, \"marker\": {\"line\": {\"color\": \"#E5ECF6\", \"width\": 0.5}}, \"type\": \"bar\"}], \"barpolar\": [{\"marker\": {\"line\": {\"color\": \"#E5ECF6\", \"width\": 0.5}}, \"type\": \"barpolar\"}], \"carpet\": [{\"aaxis\": {\"endlinecolor\": \"#2a3f5f\", \"gridcolor\": \"white\", \"linecolor\": \"white\", \"minorgridcolor\": \"white\", \"startlinecolor\": \"#2a3f5f\"}, \"baxis\": {\"endlinecolor\": \"#2a3f5f\", \"gridcolor\": \"white\", \"linecolor\": \"white\", \"minorgridcolor\": \"white\", \"startlinecolor\": \"#2a3f5f\"}, \"type\": \"carpet\"}], \"choropleth\": [{\"colorbar\": {\"outlinewidth\": 0, \"ticks\": \"\"}, \"type\": \"choropleth\"}], \"contour\": [{\"colorbar\": {\"outlinewidth\": 0, \"ticks\": \"\"}, \"colorscale\": [[0.0, \"#0d0887\"], [0.1111111111111111, \"#46039f\"], [0.2222222222222222, \"#7201a8\"], [0.3333333333333333, \"#9c179e\"], [0.4444444444444444, \"#bd3786\"], [0.5555555555555556, \"#d8576b\"], [0.6666666666666666, \"#ed7953\"], [0.7777777777777778, \"#fb9f3a\"], [0.8888888888888888, \"#fdca26\"], [1.0, \"#f0f921\"]], \"type\": \"contour\"}], \"contourcarpet\": [{\"colorbar\": {\"outlinewidth\": 0, \"ticks\": \"\"}, \"type\": \"contourcarpet\"}], \"heatmap\": [{\"colorbar\": {\"outlinewidth\": 0, \"ticks\": \"\"}, \"colorscale\": [[0.0, \"#0d0887\"], [0.1111111111111111, \"#46039f\"], [0.2222222222222222, \"#7201a8\"], [0.3333333333333333, \"#9c179e\"], [0.4444444444444444, \"#bd3786\"], [0.5555555555555556, \"#d8576b\"], [0.6666666666666666, \"#ed7953\"], [0.7777777777777778, \"#fb9f3a\"], [0.8888888888888888, \"#fdca26\"], [1.0, \"#f0f921\"]], \"type\": \"heatmap\"}], \"heatmapgl\": [{\"colorbar\": {\"outlinewidth\": 0, \"ticks\": \"\"}, \"colorscale\": [[0.0, \"#0d0887\"], [0.1111111111111111, \"#46039f\"], [0.2222222222222222, \"#7201a8\"], [0.3333333333333333, \"#9c179e\"], [0.4444444444444444, \"#bd3786\"], [0.5555555555555556, \"#d8576b\"], [0.6666666666666666, \"#ed7953\"], [0.7777777777777778, \"#fb9f3a\"], [0.8888888888888888, \"#fdca26\"], [1.0, \"#f0f921\"]], \"type\": \"heatmapgl\"}], \"histogram\": [{\"marker\": {\"colorbar\": {\"outlinewidth\": 0, \"ticks\": \"\"}}, \"type\": \"histogram\"}], \"histogram2d\": [{\"colorbar\": {\"outlinewidth\": 0, \"ticks\": \"\"}, \"colorscale\": [[0.0, \"#0d0887\"], [0.1111111111111111, \"#46039f\"], [0.2222222222222222, \"#7201a8\"], [0.3333333333333333, \"#9c179e\"], [0.4444444444444444, \"#bd3786\"], [0.5555555555555556, \"#d8576b\"], [0.6666666666666666, \"#ed7953\"], [0.7777777777777778, \"#fb9f3a\"], [0.8888888888888888, \"#fdca26\"], [1.0, \"#f0f921\"]], \"type\": \"histogram2d\"}], \"histogram2dcontour\": [{\"colorbar\": {\"outlinewidth\": 0, \"ticks\": \"\"}, \"colorscale\": [[0.0, \"#0d0887\"], [0.1111111111111111, \"#46039f\"], [0.2222222222222222, \"#7201a8\"], [0.3333333333333333, \"#9c179e\"], [0.4444444444444444, \"#bd3786\"], [0.5555555555555556, \"#d8576b\"], [0.6666666666666666, \"#ed7953\"], [0.7777777777777778, \"#fb9f3a\"], [0.8888888888888888, \"#fdca26\"], [1.0, \"#f0f921\"]], \"type\": \"histogram2dcontour\"}], \"mesh3d\": [{\"colorbar\": {\"outlinewidth\": 0, \"ticks\": \"\"}, \"type\": \"mesh3d\"}], \"parcoords\": [{\"line\": {\"colorbar\": {\"outlinewidth\": 0, \"ticks\": \"\"}}, \"type\": \"parcoords\"}], \"pie\": [{\"automargin\": true, \"type\": \"pie\"}], \"scatter\": [{\"marker\": {\"colorbar\": {\"outlinewidth\": 0, \"ticks\": \"\"}}, \"type\": \"scatter\"}], \"scatter3d\": [{\"line\": {\"colorbar\": {\"outlinewidth\": 0, \"ticks\": \"\"}}, \"marker\": {\"colorbar\": {\"outlinewidth\": 0, \"ticks\": \"\"}}, \"type\": \"scatter3d\"}], \"scattercarpet\": [{\"marker\": {\"colorbar\": {\"outlinewidth\": 0, \"ticks\": \"\"}}, \"type\": \"scattercarpet\"}], \"scattergeo\": [{\"marker\": {\"colorbar\": {\"outlinewidth\": 0, \"ticks\": \"\"}}, \"type\": \"scattergeo\"}], \"scattergl\": [{\"marker\": {\"colorbar\": {\"outlinewidth\": 0, \"ticks\": \"\"}}, \"type\": \"scattergl\"}], \"scattermapbox\": [{\"marker\": {\"colorbar\": {\"outlinewidth\": 0, \"ticks\": \"\"}}, \"type\": \"scattermapbox\"}], \"scatterpolar\": [{\"marker\": {\"colorbar\": {\"outlinewidth\": 0, \"ticks\": \"\"}}, \"type\": \"scatterpolar\"}], \"scatterpolargl\": [{\"marker\": {\"colorbar\": {\"outlinewidth\": 0, \"ticks\": \"\"}}, \"type\": \"scatterpolargl\"}], \"scatterternary\": [{\"marker\": {\"colorbar\": {\"outlinewidth\": 0, \"ticks\": \"\"}}, \"type\": \"scatterternary\"}], \"surface\": [{\"colorbar\": {\"outlinewidth\": 0, \"ticks\": \"\"}, \"colorscale\": [[0.0, \"#0d0887\"], [0.1111111111111111, \"#46039f\"], [0.2222222222222222, \"#7201a8\"], [0.3333333333333333, \"#9c179e\"], [0.4444444444444444, \"#bd3786\"], [0.5555555555555556, \"#d8576b\"], [0.6666666666666666, \"#ed7953\"], [0.7777777777777778, \"#fb9f3a\"], [0.8888888888888888, \"#fdca26\"], [1.0, \"#f0f921\"]], \"type\": \"surface\"}], \"table\": [{\"cells\": {\"fill\": {\"color\": \"#EBF0F8\"}, \"line\": {\"color\": \"white\"}}, \"header\": {\"fill\": {\"color\": \"#C8D4E3\"}, \"line\": {\"color\": \"white\"}}, \"type\": \"table\"}]}, \"layout\": {\"annotationdefaults\": {\"arrowcolor\": \"#2a3f5f\", \"arrowhead\": 0, \"arrowwidth\": 1}, \"coloraxis\": {\"colorbar\": {\"outlinewidth\": 0, \"ticks\": \"\"}}, \"colorscale\": {\"diverging\": [[0, \"#8e0152\"], [0.1, \"#c51b7d\"], [0.2, \"#de77ae\"], [0.3, \"#f1b6da\"], [0.4, \"#fde0ef\"], [0.5, \"#f7f7f7\"], [0.6, \"#e6f5d0\"], [0.7, \"#b8e186\"], [0.8, \"#7fbc41\"], [0.9, \"#4d9221\"], [1, \"#276419\"]], \"sequential\": [[0.0, \"#0d0887\"], [0.1111111111111111, \"#46039f\"], [0.2222222222222222, \"#7201a8\"], [0.3333333333333333, \"#9c179e\"], [0.4444444444444444, \"#bd3786\"], [0.5555555555555556, \"#d8576b\"], [0.6666666666666666, \"#ed7953\"], [0.7777777777777778, \"#fb9f3a\"], [0.8888888888888888, \"#fdca26\"], [1.0, \"#f0f921\"]], \"sequentialminus\": [[0.0, \"#0d0887\"], [0.1111111111111111, \"#46039f\"], [0.2222222222222222, \"#7201a8\"], [0.3333333333333333, \"#9c179e\"], [0.4444444444444444, \"#bd3786\"], [0.5555555555555556, \"#d8576b\"], [0.6666666666666666, \"#ed7953\"], [0.7777777777777778, \"#fb9f3a\"], [0.8888888888888888, \"#fdca26\"], [1.0, \"#f0f921\"]]}, \"colorway\": [\"#636efa\", \"#EF553B\", \"#00cc96\", \"#ab63fa\", \"#FFA15A\", \"#19d3f3\", \"#FF6692\", \"#B6E880\", \"#FF97FF\", \"#FECB52\"], \"font\": {\"color\": \"#2a3f5f\"}, \"geo\": {\"bgcolor\": \"white\", \"lakecolor\": \"white\", \"landcolor\": \"#E5ECF6\", \"showlakes\": true, \"showland\": true, \"subunitcolor\": \"white\"}, \"hoverlabel\": {\"align\": \"left\"}, \"hovermode\": \"closest\", \"mapbox\": {\"style\": \"light\"}, \"paper_bgcolor\": \"white\", \"plot_bgcolor\": \"#E5ECF6\", \"polar\": {\"angularaxis\": {\"gridcolor\": \"white\", \"linecolor\": \"white\", \"ticks\": \"\"}, \"bgcolor\": \"#E5ECF6\", \"radialaxis\": {\"gridcolor\": \"white\", \"linecolor\": \"white\", \"ticks\": \"\"}}, \"scene\": {\"xaxis\": {\"backgroundcolor\": \"#E5ECF6\", \"gridcolor\": \"white\", \"gridwidth\": 2, \"linecolor\": \"white\", \"showbackground\": true, \"ticks\": \"\", \"zerolinecolor\": \"white\"}, \"yaxis\": {\"backgroundcolor\": \"#E5ECF6\", \"gridcolor\": \"white\", \"gridwidth\": 2, \"linecolor\": \"white\", \"showbackground\": true, \"ticks\": \"\", \"zerolinecolor\": \"white\"}, \"zaxis\": {\"backgroundcolor\": \"#E5ECF6\", \"gridcolor\": \"white\", \"gridwidth\": 2, \"linecolor\": \"white\", \"showbackground\": true, \"ticks\": \"\", \"zerolinecolor\": \"white\"}}, \"shapedefaults\": {\"line\": {\"color\": \"#2a3f5f\"}}, \"ternary\": {\"aaxis\": {\"gridcolor\": \"white\", \"linecolor\": \"white\", \"ticks\": \"\"}, \"baxis\": {\"gridcolor\": \"white\", \"linecolor\": \"white\", \"ticks\": \"\"}, \"bgcolor\": \"#E5ECF6\", \"caxis\": {\"gridcolor\": \"white\", \"linecolor\": \"white\", \"ticks\": \"\"}}, \"title\": {\"x\": 0.05}, \"xaxis\": {\"automargin\": true, \"gridcolor\": \"white\", \"linecolor\": \"white\", \"ticks\": \"\", \"title\": {\"standoff\": 15}, \"zerolinecolor\": \"white\", \"zerolinewidth\": 2}, \"yaxis\": {\"automargin\": true, \"gridcolor\": \"white\", \"linecolor\": \"white\", \"ticks\": \"\", \"title\": {\"standoff\": 15}, \"zerolinecolor\": \"white\", \"zerolinewidth\": 2}}}, \"xaxis\": {\"anchor\": \"y\", \"domain\": [0.0, 1.0], \"title\": {\"text\": \"mean\"}}, \"yaxis\": {\"anchor\": \"x\", \"domain\": [0.0, 1.0], \"title\": {\"text\": \"post\"}}},\n",
              "                        {\"responsive\": true}\n",
              "                    ).then(function(){\n",
              "                            \n",
              "var gd = document.getElementById('e76e297c-4044-44d1-a119-35202dd790a9');\n",
              "var x = new MutationObserver(function (mutations, observer) {{\n",
              "        var display = window.getComputedStyle(gd).display;\n",
              "        if (!display || display === 'none') {{\n",
              "            console.log([gd, 'removed!']);\n",
              "            Plotly.purge(gd);\n",
              "            observer.disconnect();\n",
              "        }}\n",
              "}});\n",
              "\n",
              "// Listen for the removal of the full notebook cells\n",
              "var notebookContainer = gd.closest('#notebook-container');\n",
              "if (notebookContainer) {{\n",
              "    x.observe(notebookContainer, {childList: true});\n",
              "}}\n",
              "\n",
              "// Listen for the clearing of the current output cell\n",
              "var outputEl = gd.closest('.output');\n",
              "if (outputEl) {{\n",
              "    x.observe(outputEl, {childList: true});\n",
              "}}\n",
              "\n",
              "                        })\n",
              "                };\n",
              "                \n",
              "            </script>\n",
              "        </div>\n",
              "</body>\n",
              "</html>"
            ]
          },
          "metadata": {
            "tags": []
          }
        }
      ]
    },
    {
      "cell_type": "markdown",
      "metadata": {
        "id": "szOjXLKA1Rif"
      },
      "source": [
        "**Respuesta:**"
      ]
    },
    {
      "cell_type": "markdown",
      "metadata": {
        "id": "0F83QdD61Pd1"
      },
      "source": [
        "De los resultados puede observarse que no es trivial asociar los posts de mayor mean posterior con los que al restar la cantidad de votos positivos con negativos entregue un mayor valor. Esto puede corroborarse al comparar el top 1 en lower bound de mean posterior (pos-neg = 802) con el top 20 (pos-neg = 1162). Esto confirma que la solución no resulta trivial."
      ]
    },
    {
      "cell_type": "markdown",
      "metadata": {
        "id": "Rg4ZMq8ezAH6"
      },
      "source": [
        "# Conclusión\n",
        "Eso ha sido todo para el lab de hoy, recuerden que el laboratorio tiene un plazo de entrega de una semana y que **los días de atraso no se pueden utilizar para entregas de lab, solo para tareas**. Cualquier duda del laboratorio, no duden en contactarnos por mail o U-cursos.\n",
        "\n",
        "<p align=\"center\">\n",
        "  <img src=\"https://media1.tenor.com/images/fb5bf7cc5a4acb91b4177672886a88ba/tenor.gif?itemid=5591338\">\n",
        "</p>"
      ]
    }
  ]
}